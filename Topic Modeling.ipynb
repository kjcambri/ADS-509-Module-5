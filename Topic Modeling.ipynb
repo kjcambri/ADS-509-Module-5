{
 "cells": [
  {
   "cell_type": "markdown",
   "id": "bce2bb89",
   "metadata": {},
   "source": [
    "# ADS 509 Assignment 5.1: Topic Modeling\n",
    "## Kevon Cambridge\n",
    "\n",
    "This notebook holds Assignment 5.1 for Module 5 in ADS 509, Applied Text Mining. Work through this notebook, writing code and answering questions where required. \n",
    "\n",
    "In this assignment you will work with a categorical corpus that accompanies `nltk`. You will build the three types of topic models described in Chapter 8 of _Blueprints for Text Analytics using Python_: NMF, LSA, and LDA. You will compare these models to the true categories. \n"
   ]
  },
  {
   "cell_type": "markdown",
   "id": "d87e2c06",
   "metadata": {},
   "source": [
    "## General Assignment Instructions\n",
    "\n",
    "These instructions are included in every assignment, to remind you of the coding standards for the class. Feel free to delete this cell after reading it. \n",
    "\n",
    "One sign of mature code is conforming to a style guide. We recommend the [Google Python Style Guide](https://google.github.io/styleguide/pyguide.html). If you use a different style guide, please include a cell with a link. \n",
    "\n",
    "Your code should be relatively easy-to-read, sensibly commented, and clean. Writing code is a messy process, so please be sure to edit your final submission. Remove any cells that are not needed or parts of cells that contain unnecessary code. Remove inessential `import` statements and make sure that all such statements are moved into the designated cell. \n",
    "\n",
    "Make use of non-code cells for written commentary. These cells should be grammatical and clearly written. In some of these cells you will have questions to answer. The questions will be marked by a \"Q:\" and will have a corresponding \"A:\" spot for you. *Make sure to answer every question marked with a `Q:` for full credit.* \n"
   ]
  },
  {
   "cell_type": "code",
   "execution_count": 13,
   "id": "a85bce08",
   "metadata": {},
   "outputs": [],
   "source": [
    "# These libraries may be useful to you\n",
    "import nltk\n",
    "from nltk.corpus import brown\n",
    "\n",
    "import numpy as np\n",
    "import pandas as pd\n",
    "from tqdm.auto import tqdm\n",
    "\n",
    "#import gensim\n",
    "#import gensim.corpora as corpora\n",
    "#from gensim.utils import simple_preprocess\n",
    "#from gensim.models import CoherenceModel,LdaMulticore, Phrases \n",
    "#from gensim.models.phrases import Phraser \n",
    "#from gensim.corpora import Dictionary\n",
    "\n",
    "import pyLDAvis\n",
    "import pyLDAvis.sklearn\n",
    "import pyLDAvis.gensim_models\n",
    "\n",
    "import spacy\n",
    "from sklearn.feature_extraction.text import TfidfVectorizer, CountVectorizer\n",
    "from sklearn.decomposition import NMF, TruncatedSVD, LatentDirichletAllocation\n",
    "\n",
    "from spacy.lang.en.stop_words import STOP_WORDS as stopwords\n",
    "\n",
    "from collections import Counter, defaultdict\n",
    "\n",
    "nlp = spacy.load('en_core_web_sm')\n",
    "\n"
   ]
  },
  {
   "cell_type": "code",
   "execution_count": 30,
   "id": "a218df60",
   "metadata": {},
   "outputs": [],
   "source": [
    "# add any additional libaries you need here\n",
    "\n",
    "from sklearn.decomposition import TruncatedSVD\n",
    "from sklearn.decomposition import LatentDirichletAllocation"
   ]
  },
  {
   "cell_type": "code",
   "execution_count": 15,
   "id": "494de237",
   "metadata": {},
   "outputs": [],
   "source": [
    "# This function comes from the BTAP repo.\n",
    "\n",
    "def display_topics(model, features, no_top_words=5):\n",
    "    for topic, words in enumerate(model.components_):\n",
    "        total = words.sum()\n",
    "        largest = words.argsort()[::-1] # invert sort order\n",
    "        print(\"\\nTopic %02d\" % topic)\n",
    "        for i in range(0, no_top_words):\n",
    "            print(\"  %s (%2.2f)\" % (features[largest[i]], abs(words[largest[i]]*100.0/total)))"
   ]
  },
  {
   "cell_type": "markdown",
   "id": "a30a901c",
   "metadata": {},
   "source": [
    "## Getting to Know the Brown Corpus\n",
    "\n",
    "Let's spend a bit of time getting to know what's in the Brown corpus, our NLTK example of an \"overlapping\" corpus."
   ]
  },
  {
   "cell_type": "code",
   "execution_count": 16,
   "id": "457c59ed",
   "metadata": {},
   "outputs": [
    {
     "name": "stdout",
     "output_type": "stream",
     "text": [
      "For adventure we have 29 articles.\n",
      "For belles_lettres we have 75 articles.\n",
      "For editorial we have 27 articles.\n",
      "For fiction we have 29 articles.\n",
      "For government we have 30 articles.\n",
      "For hobbies we have 36 articles.\n",
      "For humor we have 9 articles.\n",
      "For learned we have 80 articles.\n",
      "For lore we have 48 articles.\n",
      "For mystery we have 24 articles.\n",
      "For news we have 44 articles.\n",
      "For religion we have 17 articles.\n",
      "For reviews we have 17 articles.\n",
      "For romance we have 29 articles.\n",
      "For science_fiction we have 6 articles.\n"
     ]
    }
   ],
   "source": [
    "# categories of articles in Brown corpus\n",
    "for category in brown.categories() :\n",
    "    print(f\"For {category} we have {len(brown.fileids(categories=category))} articles.\")"
   ]
  },
  {
   "cell_type": "markdown",
   "id": "23fb133c",
   "metadata": {},
   "source": [
    "Let's create a dataframe of the articles in of hobbies, editorial, government, news, and romance."
   ]
  },
  {
   "cell_type": "code",
   "execution_count": 17,
   "id": "18f50b9d",
   "metadata": {},
   "outputs": [
    {
     "data": {
      "text/plain": [
       "(166, 3)"
      ]
     },
     "execution_count": 17,
     "metadata": {},
     "output_type": "execute_result"
    }
   ],
   "source": [
    "categories = ['editorial','government','news','romance','hobbies'] \n",
    "\n",
    "category_list = []\n",
    "file_ids = []\n",
    "texts = []\n",
    "\n",
    "for category in categories : \n",
    "    for file_id in brown.fileids(categories=category) :\n",
    "        \n",
    "        # build some lists for a dataframe\n",
    "        category_list.append(category)\n",
    "        file_ids.append(file_id)\n",
    "        \n",
    "        text = brown.words(fileids=file_id)\n",
    "        texts.append(\" \".join(text))\n",
    "\n",
    "        \n",
    "        \n",
    "df = pd.DataFrame()\n",
    "df['category'] = category_list\n",
    "df['id'] = file_ids\n",
    "df['text'] = texts \n",
    "\n",
    "df.shape"
   ]
  },
  {
   "cell_type": "code",
   "execution_count": 18,
   "id": "586f47de",
   "metadata": {},
   "outputs": [],
   "source": [
    "# Let's add some helpful columns on the df\n",
    "df['char_len'] = df['text'].apply(len)\n",
    "df['word_len'] = df['text'].apply(lambda x: len(x.split()))\n"
   ]
  },
  {
   "cell_type": "code",
   "execution_count": 19,
   "id": "2128fd2d",
   "metadata": {},
   "outputs": [
    {
     "data": {
      "text/plain": [
       "<AxesSubplot:xlabel='category'>"
      ]
     },
     "execution_count": 19,
     "metadata": {},
     "output_type": "execute_result"
    },
    {
     "data": {
      "image/png": "[encoded data removed]",
      "text/plain": [
       "<Figure size 720x432 with 1 Axes>"
      ]
     },
     "metadata": {
      "needs_background": "light"
     },
     "output_type": "display_data"
    }
   ],
   "source": [
    "%matplotlib inline\n",
    "df.groupby('category').agg({'word_len': 'mean'}).plot.bar(figsize=(10,6))"
   ]
  },
  {
   "cell_type": "markdown",
   "id": "554ffeb5",
   "metadata": {},
   "source": [
    "Now do our TF-IDF and Count vectorizations."
   ]
  },
  {
   "cell_type": "code",
   "execution_count": 20,
   "id": "21a7d247",
   "metadata": {},
   "outputs": [
    {
     "name": "stderr",
     "output_type": "stream",
     "text": [
      "C:\\Users\\19545\\anaconda3\\lib\\site-packages\\sklearn\\feature_extraction\\text.py:396: UserWarning: Your stop_words may be inconsistent with your preprocessing. Tokenizing the stop words generated tokens ['ll', 've'] not in stop_words.\n",
      "  warnings.warn(\n"
     ]
    },
    {
     "data": {
      "text/plain": [
       "(166, 4941)"
      ]
     },
     "execution_count": 20,
     "metadata": {},
     "output_type": "execute_result"
    }
   ],
   "source": [
    "count_text_vectorizer = CountVectorizer(stop_words=stopwords, min_df=5, max_df=0.7)\n",
    "count_text_vectors = count_text_vectorizer.fit_transform(df[\"text\"])\n",
    "count_text_vectors.shape"
   ]
  },
  {
   "cell_type": "code",
   "execution_count": 21,
   "id": "875deba9",
   "metadata": {},
   "outputs": [
    {
     "data": {
      "text/plain": [
       "(166, 4941)"
      ]
     },
     "execution_count": 21,
     "metadata": {},
     "output_type": "execute_result"
    }
   ],
   "source": [
    "tfidf_text_vectorizer = TfidfVectorizer(stop_words=stopwords, min_df=5, max_df=0.7)\n",
    "tfidf_text_vectors = tfidf_text_vectorizer.fit_transform(df['text'])\n",
    "tfidf_text_vectors.shape"
   ]
  },
  {
   "cell_type": "markdown",
   "id": "a1062b21",
   "metadata": {},
   "source": [
    "Q: What do the two data frames `count_text_vectors` and `tfidf_text_vectors` hold? \n",
    "\n",
    "A: `tfidf_text_vectors` holds the frequency of the words present in the corpus not only that it gives us the value of how each word is important.\n",
    "    On the other hand, `count_text_vectors` does not give us important, it gives us if each word is present in a corpus or not"
   ]
  },
  {
   "cell_type": "markdown",
   "id": "f77c3f94",
   "metadata": {},
   "source": [
    "## Fitting a Non-Negative Matrix Factorization Model\n",
    "\n",
    "In this section the code to fit a five-topic NMF model has already been written. This code comes directly from the [BTAP repo](https://github.com/blueprints-for-text-analytics-python/blueprints-text), which will help you tremendously in the coming sections. "
   ]
  },
  {
   "cell_type": "code",
   "execution_count": 22,
   "id": "d28745a3",
   "metadata": {},
   "outputs": [
    {
     "name": "stderr",
     "output_type": "stream",
     "text": [
      "C:\\Users\\19545\\anaconda3\\lib\\site-packages\\sklearn\\decomposition\\_nmf.py:289: FutureWarning: The 'init' value, when 'init=None' and n_components is less than n_samples and n_features, will be changed from 'nndsvd' to 'nndsvda' in 1.1 (renaming of 0.26).\n",
      "  warnings.warn(\n"
     ]
    }
   ],
   "source": [
    "nmf_text_model = NMF(n_components=5, random_state=314)\n",
    "W_text_matrix = nmf_text_model.fit_transform(tfidf_text_vectors)\n",
    "H_text_matrix = nmf_text_model.components_"
   ]
  },
  {
   "cell_type": "code",
   "execution_count": 41,
   "id": "a67185e7",
   "metadata": {},
   "outputs": [
    {
     "name": "stdout",
     "output_type": "stream",
     "text": [
      "\n",
      "Topic 00\n",
      "  mr (0.51)\n",
      "  president (0.45)\n",
      "  kennedy (0.43)\n",
      "  united (0.42)\n",
      "  khrushchev (0.40)\n",
      "\n",
      "Topic 01\n",
      "  said (0.88)\n",
      "  didn (0.46)\n",
      "  ll (0.45)\n",
      "  thought (0.42)\n",
      "  man (0.37)\n",
      "\n",
      "Topic 02\n",
      "  state (0.40)\n",
      "  development (0.36)\n",
      "  tax (0.33)\n",
      "  sales (0.30)\n",
      "  program (0.25)\n",
      "\n",
      "Topic 03\n",
      "  mrs (2.61)\n",
      "  mr (0.78)\n",
      "  said (0.64)\n",
      "  miss (0.52)\n",
      "  car (0.51)\n",
      "\n",
      "Topic 04\n",
      "  game (1.01)\n",
      "  league (0.74)\n",
      "  ball (0.72)\n",
      "  baseball (0.71)\n",
      "  team (0.66)\n"
     ]
    }
   ],
   "source": [
    "display_topics(nmf_text_model, tfidf_text_vectorizer.get_feature_names())"
   ]
  },
  {
   "cell_type": "markdown",
   "id": "fee51e9b",
   "metadata": {},
   "source": [
    "Now some work for you to do. Compare the NMF factorization to the original categories from the Brown Corpus.\n",
    "\n",
    "We are interested in the extent to which our NMF factorization agrees or disagrees with the original categories in the corpus. For each topic in your NMF model, tally the Brown categories and interpret the results. \n"
   ]
  },
  {
   "cell_type": "code",
   "execution_count": 25,
   "id": "7c8c8eb0",
   "metadata": {},
   "outputs": [
    {
     "data": {
      "text/html": [
       "<div>\n",
       "<style scoped>\n",
       "    .dataframe tbody tr th:only-of-type {\n",
       "        vertical-align: middle;\n",
       "    }\n",
       "\n",
       "    .dataframe tbody tr th {\n",
       "        vertical-align: top;\n",
       "    }\n",
       "\n",
       "    .dataframe thead th {\n",
       "        text-align: right;\n",
       "    }\n",
       "</style>\n",
       "<table border=\"1\" class=\"dataframe\">\n",
       "  <thead>\n",
       "    <tr style=\"text-align: right;\">\n",
       "      <th>category</th>\n",
       "      <th>editorial</th>\n",
       "      <th>government</th>\n",
       "      <th>hobbies</th>\n",
       "      <th>news</th>\n",
       "      <th>romance</th>\n",
       "    </tr>\n",
       "    <tr>\n",
       "      <th>topic</th>\n",
       "      <th></th>\n",
       "      <th></th>\n",
       "      <th></th>\n",
       "      <th></th>\n",
       "      <th></th>\n",
       "    </tr>\n",
       "  </thead>\n",
       "  <tbody>\n",
       "    <tr>\n",
       "      <th>0</th>\n",
       "      <td>20</td>\n",
       "      <td>4</td>\n",
       "      <td>0</td>\n",
       "      <td>8</td>\n",
       "      <td>0</td>\n",
       "    </tr>\n",
       "    <tr>\n",
       "      <th>1</th>\n",
       "      <td>4</td>\n",
       "      <td>0</td>\n",
       "      <td>8</td>\n",
       "      <td>0</td>\n",
       "      <td>29</td>\n",
       "    </tr>\n",
       "    <tr>\n",
       "      <th>2</th>\n",
       "      <td>2</td>\n",
       "      <td>26</td>\n",
       "      <td>26</td>\n",
       "      <td>11</td>\n",
       "      <td>0</td>\n",
       "    </tr>\n",
       "    <tr>\n",
       "      <th>3</th>\n",
       "      <td>0</td>\n",
       "      <td>0</td>\n",
       "      <td>1</td>\n",
       "      <td>17</td>\n",
       "      <td>0</td>\n",
       "    </tr>\n",
       "    <tr>\n",
       "      <th>4</th>\n",
       "      <td>1</td>\n",
       "      <td>0</td>\n",
       "      <td>1</td>\n",
       "      <td>8</td>\n",
       "      <td>0</td>\n",
       "    </tr>\n",
       "  </tbody>\n",
       "</table>\n",
       "</div>"
      ],
      "text/plain": [
       "category  editorial  government  hobbies  news  romance\n",
       "topic                                                  \n",
       "0                20           4        0     8        0\n",
       "1                 4           0        8     0       29\n",
       "2                 2          26       26    11        0\n",
       "3                 0           0        1    17        0\n",
       "4                 1           0        1     8        0"
      ]
     },
     "execution_count": 25,
     "metadata": {},
     "output_type": "execute_result"
    }
   ],
   "source": [
    "# Your code here\n",
    "df['topic'] = W_text_matrix.argmax(1)\n",
    "matrix = pd.crosstab(df['topic'], df['category'])\n",
    "matrix"
   ]
  },
  {
   "cell_type": "markdown",
   "id": "f8d4e2bc",
   "metadata": {},
   "source": [
    "Q: How does your five-topic NMF model compare to the original Brown categories? \n",
    "\n",
    "A: Our five-topic NMF model matches to the original brown categories pretty well. For example, topic 00 mentions (mr, president, kennedy, united, khrushchev) these are mentioned in the categories: 20 editorial, 4 in government and 8 in news. Similarly topic 02 mentions (state, development, tax, sales, program) these are mentioned in the categories: 26 government, 26 hobbies, 11 news. The only topic that was not matched up properly was topic 01, 29 was mentioned in romance but in original brown categories, no words aligned with romance was present. "
   ]
  },
  {
   "cell_type": "markdown",
   "id": "82e37cb5",
   "metadata": {},
   "source": [
    "## Fitting an LSA Model\n",
    "\n",
    "In this section, follow the example from the repository and fit an LSA model (called a \"TruncatedSVD\" in `sklearn`). Again fit a five-topic model and compare it to the actual categories in the Brown corpus. Use the TF-IDF vectors for your fit, as above. \n",
    "\n",
    "To be explicit, we are once again interested in the extent to which this LSA factorization agrees or disagrees with the original categories in the corpus. For each topic in your model, tally the Brown categories and interpret the results. \n"
   ]
  },
  {
   "cell_type": "code",
   "execution_count": 28,
   "id": "00b53d3d",
   "metadata": {},
   "outputs": [],
   "source": [
    "# Your code here\n",
    "lsa = TruncatedSVD(n_components=5, random_state=314)\n",
    "lsa_model = lsa.fit_transform(tfidf_text_vectors)"
   ]
  },
  {
   "cell_type": "code",
   "execution_count": 29,
   "id": "377a886e",
   "metadata": {},
   "outputs": [
    {
     "name": "stdout",
     "output_type": "stream",
     "text": [
      "\n",
      "Topic 00\n",
      "  said (0.44)\n",
      "  mr (0.25)\n",
      "  mrs (0.22)\n",
      "  state (0.20)\n",
      "  man (0.17)\n",
      "\n",
      "Topic 01\n",
      "  said (3.89)\n",
      "  ll (2.73)\n",
      "  didn (2.63)\n",
      "  thought (2.20)\n",
      "  got (1.97)\n",
      "\n",
      "Topic 02\n",
      "  mrs (3.12)\n",
      "  mr (1.70)\n",
      "  said (1.06)\n",
      "  kennedy (0.82)\n",
      "  khrushchev (0.77)\n",
      "\n",
      "Topic 03\n",
      "  mrs (29.45)\n",
      "  club (6.53)\n",
      "  game (6.12)\n",
      "  jr (5.60)\n",
      "  university (5.20)\n",
      "\n",
      "Topic 04\n",
      "  game (4.54)\n",
      "  league (3.27)\n",
      "  baseball (3.22)\n",
      "  ball (3.10)\n",
      "  team (2.94)\n"
     ]
    },
    {
     "name": "stderr",
     "output_type": "stream",
     "text": [
      "C:\\Users\\19545\\anaconda3\\lib\\site-packages\\sklearn\\utils\\deprecation.py:87: FutureWarning: Function get_feature_names is deprecated; get_feature_names is deprecated in 1.0 and will be removed in 1.2. Please use get_feature_names_out instead.\n",
      "  warnings.warn(msg, category=FutureWarning)\n"
     ]
    }
   ],
   "source": [
    "# call display_topics on your model\n",
    "display_topics(lsa, tfidf_text_vectorizer.get_feature_names())"
   ]
  },
  {
   "cell_type": "code",
   "execution_count": 44,
   "id": "1e5097c7",
   "metadata": {},
   "outputs": [
    {
     "data": {
      "text/html": [
       "<div>\n",
       "<style scoped>\n",
       "    .dataframe tbody tr th:only-of-type {\n",
       "        vertical-align: middle;\n",
       "    }\n",
       "\n",
       "    .dataframe tbody tr th {\n",
       "        vertical-align: top;\n",
       "    }\n",
       "\n",
       "    .dataframe thead th {\n",
       "        text-align: right;\n",
       "    }\n",
       "</style>\n",
       "<table border=\"1\" class=\"dataframe\">\n",
       "  <thead>\n",
       "    <tr style=\"text-align: right;\">\n",
       "      <th>category</th>\n",
       "      <th>editorial</th>\n",
       "      <th>government</th>\n",
       "      <th>hobbies</th>\n",
       "      <th>news</th>\n",
       "      <th>romance</th>\n",
       "    </tr>\n",
       "    <tr>\n",
       "      <th>topic</th>\n",
       "      <th></th>\n",
       "      <th></th>\n",
       "      <th></th>\n",
       "      <th></th>\n",
       "      <th></th>\n",
       "    </tr>\n",
       "  </thead>\n",
       "  <tbody>\n",
       "    <tr>\n",
       "      <th>0</th>\n",
       "      <td>27</td>\n",
       "      <td>30</td>\n",
       "      <td>36</td>\n",
       "      <td>34</td>\n",
       "      <td>21</td>\n",
       "    </tr>\n",
       "    <tr>\n",
       "      <th>1</th>\n",
       "      <td>0</td>\n",
       "      <td>0</td>\n",
       "      <td>0</td>\n",
       "      <td>0</td>\n",
       "      <td>8</td>\n",
       "    </tr>\n",
       "    <tr>\n",
       "      <th>3</th>\n",
       "      <td>0</td>\n",
       "      <td>0</td>\n",
       "      <td>0</td>\n",
       "      <td>3</td>\n",
       "      <td>0</td>\n",
       "    </tr>\n",
       "    <tr>\n",
       "      <th>4</th>\n",
       "      <td>0</td>\n",
       "      <td>0</td>\n",
       "      <td>0</td>\n",
       "      <td>7</td>\n",
       "      <td>0</td>\n",
       "    </tr>\n",
       "  </tbody>\n",
       "</table>\n",
       "</div>"
      ],
      "text/plain": [
       "category  editorial  government  hobbies  news  romance\n",
       "topic                                                  \n",
       "0                27          30       36    34       21\n",
       "1                 0           0        0     0        8\n",
       "3                 0           0        0     3        0\n",
       "4                 0           0        0     7        0"
      ]
     },
     "execution_count": 44,
     "metadata": {},
     "output_type": "execute_result"
    }
   ],
   "source": [
    "df['topic'] = lsa_model.argmax(1)\n",
    "matrix_3 = pd.crosstab(df['topic'], df['category'])\n",
    "matrix_3"
   ]
  },
  {
   "cell_type": "markdown",
   "id": "4d94d56f",
   "metadata": {},
   "source": [
    "Q: How does your five-topic LSA model compare to the original Brown categories? \n",
    "\n",
    "A: Our five-topic LSA model matches to the original brown categories pretty badly. For example, topic 00 mentions (said, mr, mrs, state, man) these are mentioned in the categories: 27 editorial,30 in government 36 hobbies, 21 romance and 34 in news. This can be true for topic 00 however for the other topics in our lsa model there seem to be a bias towards topic 0. "
   ]
  },
  {
   "cell_type": "markdown",
   "id": "ea8b280a",
   "metadata": {},
   "source": [
    "Q: What is your interpretation of the display topics output? \n",
    "\n",
    "A: From the above results, it shows that the topics that our lsa model has no correlation with the original brown categories. There this model did not perform well at all."
   ]
  },
  {
   "cell_type": "markdown",
   "id": "b4ab4d29",
   "metadata": {},
   "source": [
    "## Fitting an LDA Model\n",
    "\n",
    "Finally, fit a five-topic LDA model using the count vectors (`count_text_vectors` from above). Display the results using `pyLDAvis.display` and describe what you learn from that visualization. "
   ]
  },
  {
   "cell_type": "code",
   "execution_count": 31,
   "id": "802cb8ff",
   "metadata": {},
   "outputs": [],
   "source": [
    "# Fit your LDA model here\n",
    "lda = LatentDirichletAllocation(n_components=5, random_state=314)\n",
    "lda_model = lda.fit_transform(count_text_vectors)"
   ]
  },
  {
   "cell_type": "code",
   "execution_count": 32,
   "id": "ab18adf5",
   "metadata": {},
   "outputs": [
    {
     "name": "stdout",
     "output_type": "stream",
     "text": [
      "\n",
      "Topic 00\n",
      "  said (1.05)\n",
      "  mrs (0.82)\n",
      "  little (0.56)\n",
      "  good (0.51)\n",
      "  way (0.50)\n",
      "\n",
      "Topic 01\n",
      "  state (0.67)\n",
      "  development (0.63)\n",
      "  000 (0.57)\n",
      "  program (0.48)\n",
      "  business (0.44)\n",
      "\n",
      "Topic 02\n",
      "  said (1.18)\n",
      "  mr (0.72)\n",
      "  president (0.51)\n",
      "  city (0.43)\n",
      "  state (0.37)\n",
      "\n",
      "Topic 03\n",
      "  feed (0.55)\n",
      "  college (0.54)\n",
      "  general (0.44)\n",
      "  university (0.43)\n",
      "  work (0.37)\n",
      "\n",
      "Topic 04\n",
      "  states (1.14)\n",
      "  state (1.02)\n",
      "  united (0.84)\n",
      "  shall (0.66)\n",
      "  government (0.61)\n"
     ]
    },
    {
     "name": "stderr",
     "output_type": "stream",
     "text": [
      "C:\\Users\\19545\\anaconda3\\lib\\site-packages\\sklearn\\utils\\deprecation.py:87: FutureWarning: Function get_feature_names is deprecated; get_feature_names is deprecated in 1.0 and will be removed in 1.2. Please use get_feature_names_out instead.\n",
      "  warnings.warn(msg, category=FutureWarning)\n"
     ]
    }
   ],
   "source": [
    "# Call `display_topics` on your fitted model here\n",
    "display_topics(lda, count_text_vectorizer.get_feature_names())"
   ]
  },
  {
   "cell_type": "code",
   "execution_count": 33,
   "id": "235320bb",
   "metadata": {},
   "outputs": [
    {
     "data": {
      "text/html": [
       "<div>\n",
       "<style scoped>\n",
       "    .dataframe tbody tr th:only-of-type {\n",
       "        vertical-align: middle;\n",
       "    }\n",
       "\n",
       "    .dataframe tbody tr th {\n",
       "        vertical-align: top;\n",
       "    }\n",
       "\n",
       "    .dataframe thead th {\n",
       "        text-align: right;\n",
       "    }\n",
       "</style>\n",
       "<table border=\"1\" class=\"dataframe\">\n",
       "  <thead>\n",
       "    <tr style=\"text-align: right;\">\n",
       "      <th>category</th>\n",
       "      <th>editorial</th>\n",
       "      <th>government</th>\n",
       "      <th>hobbies</th>\n",
       "      <th>news</th>\n",
       "      <th>romance</th>\n",
       "    </tr>\n",
       "    <tr>\n",
       "      <th>topic</th>\n",
       "      <th></th>\n",
       "      <th></th>\n",
       "      <th></th>\n",
       "      <th></th>\n",
       "      <th></th>\n",
       "    </tr>\n",
       "  </thead>\n",
       "  <tbody>\n",
       "    <tr>\n",
       "      <th>0</th>\n",
       "      <td>3</td>\n",
       "      <td>1</td>\n",
       "      <td>11</td>\n",
       "      <td>4</td>\n",
       "      <td>28</td>\n",
       "    </tr>\n",
       "    <tr>\n",
       "      <th>1</th>\n",
       "      <td>1</td>\n",
       "      <td>12</td>\n",
       "      <td>9</td>\n",
       "      <td>3</td>\n",
       "      <td>0</td>\n",
       "    </tr>\n",
       "    <tr>\n",
       "      <th>2</th>\n",
       "      <td>21</td>\n",
       "      <td>3</td>\n",
       "      <td>2</td>\n",
       "      <td>32</td>\n",
       "      <td>1</td>\n",
       "    </tr>\n",
       "    <tr>\n",
       "      <th>3</th>\n",
       "      <td>2</td>\n",
       "      <td>4</td>\n",
       "      <td>8</td>\n",
       "      <td>3</td>\n",
       "      <td>0</td>\n",
       "    </tr>\n",
       "    <tr>\n",
       "      <th>4</th>\n",
       "      <td>0</td>\n",
       "      <td>10</td>\n",
       "      <td>6</td>\n",
       "      <td>2</td>\n",
       "      <td>0</td>\n",
       "    </tr>\n",
       "  </tbody>\n",
       "</table>\n",
       "</div>"
      ],
      "text/plain": [
       "category  editorial  government  hobbies  news  romance\n",
       "topic                                                  \n",
       "0                 3           1       11     4       28\n",
       "1                 1          12        9     3        0\n",
       "2                21           3        2    32        1\n",
       "3                 2           4        8     3        0\n",
       "4                 0          10        6     2        0"
      ]
     },
     "execution_count": 33,
     "metadata": {},
     "output_type": "execute_result"
    }
   ],
   "source": [
    "df['topic'] = lda_model.argmax(1)\n",
    "matrix_2 = pd.crosstab(df['topic'], df['category'])\n",
    "matrix_2"
   ]
  },
  {
   "cell_type": "markdown",
   "id": "f2c67876",
   "metadata": {},
   "source": [
    "Q: What inference do you draw from the displayed topics for your LDA model? \n",
    "\n",
    "A: Our five-topic lda model matches to the original brown categories not so good. It seems as if all words are being specified to a single topic 'government' it performs better than lsa model but not better than nmf.\n",
    "\n",
    "Q: Repeat the tallying of Brown categories within your topics. How does your five-topic LDA model compare to the original Brown categories? \n",
    "\n",
    "A: From the above results, it shows that the topics that our lda model is very bias towards the other topic and favor government."
   ]
  },
  {
   "cell_type": "code",
   "execution_count": 34,
   "id": "6aae75ca",
   "metadata": {},
   "outputs": [
    {
     "name": "stderr",
     "output_type": "stream",
     "text": [
      "C:\\Users\\19545\\anaconda3\\lib\\site-packages\\sklearn\\utils\\deprecation.py:87: FutureWarning: Function get_feature_names is deprecated; get_feature_names is deprecated in 1.0 and will be removed in 1.2. Please use get_feature_names_out instead.\n",
      "  warnings.warn(msg, category=FutureWarning)\n",
      "C:\\Users\\19545\\anaconda3\\lib\\site-packages\\pyLDAvis\\_prepare.py:246: FutureWarning: In a future version of pandas all arguments of DataFrame.drop except for the argument 'labels' will be keyword-only.\n",
      "  default_term_info = default_term_info.sort_values(\n"
     ]
    }
   ],
   "source": [
    "lda_display = pyLDAvis.sklearn.prepare(lda, count_text_vectors, count_text_vectorizer, sort_topics=False)"
   ]
  },
  {
   "cell_type": "code",
   "execution_count": 35,
   "id": "2a89fc15",
   "metadata": {},
   "outputs": [
    {
     "data": {
      "text/html": [
       "\n",
       "<link rel=\"stylesheet\" type=\"text/css\" href=\"https://cdn.jsdelivr.net/gh/bmabey/pyLDAvis@3.3.1/pyLDAvis/js/ldavis.v1.0.0.css\">\n",
       "\n",
       "\n",
       "<div id=\"ldavis_el3146825219569068169338715608\"></div>\n",
       "<script type=\"text/javascript\">\n",
       "\n",
       "var ldavis_el3146825219569068169338715608_data = {\"mdsDat\": {\"x\": [-0.24352303362204092, 0.13055719395526008, -0.05665667547392707, 0.04142748483975175, 0.1281950303009562], \"y\": [0.006829720679473103, -0.05588474470164812, 0.03852366287446425, -0.1128521523095558, 0.12338351345726654], \"topics\": [1, 2, 3, 4, 5], \"cluster\": [1, 1, 1, 1, 1], \"Freq\": [22.896957296534474, 20.431968542841858, 32.00626407252649, 12.368825612932365, 12.295984475164817]}, \"tinfo\": {\"Term\": [\"states\", \"state\", \"said\", \"mrs\", \"united\", \"shall\", \"development\", \"tax\", \"feed\", \"fiscal\", \"college\", \"government\", \"ll\", \"don\", \"000\", \"university\", \"department\", \"didn\", \"sales\", \"president\", \"rhode\", \"got\", \"equipment\", \"little\", \"mother\", \"class\", \"act\", \"program\", \"system\", \"property\", \"hair\", \"baby\", \"clothes\", \"walls\", \"anne\", \"fig\", \"pale\", \"pink\", \"dry\", \"yellow\", \"entrance\", \"hadn\", \"ham\", \"couldn\", \"frames\", \"fingers\", \"flowers\", \"windows\", \"bride\", \"hell\", \"handsome\", \"coat\", \"cloth\", \"sweet\", \"stared\", \"liked\", \"colored\", \"studio\", \"bed\", \"trees\", \"shelter\", \"mother\", \"looked\", \"clay\", \"wasn\", \"guests\", \"didn\", \"woman\", \"sat\", \"pieces\", \"colors\", \"eyes\", \"drill\", \"mrs\", \"ll\", \"don\", \"thought\", \"room\", \"sun\", \"inch\", \"ve\", \"black\", \"little\", \"knew\", \"went\", \"sure\", \"got\", \"door\", \"look\", \"son\", \"know\", \"said\", \"way\", \"come\", \"came\", \"good\", \"place\", \"away\", \"old\", \"water\", \"right\", \"man\", \"let\", \"life\", \"left\", \"house\", \"day\", \"home\", \"systems\", \"marketing\", \"electronic\", \"boats\", \"missiles\", \"components\", \"aircraft\", \"machine\", \"rhode\", \"assessment\", \"shipments\", \"laboratory\", \"bankers\", \"savings\", \"yield\", \"industrial\", \"forests\", \"compared\", \"machines\", \"procurement\", \"missile\", \"conservation\", \"utility\", \"inventories\", \"polaris\", \"manufacturing\", \"machinery\", \"investment\", \"recreation\", \"banks\", \"property\", \"industry\", \"equipment\", \"sales\", \"radiation\", \"planning\", \"development\", \"medical\", \"providence\", \"billion\", \"system\", \"shares\", \"manufacturers\", \"island\", \"1960\", \"production\", \"1959\", \"products\", \"research\", \"co\", \"range\", \"000\", \"program\", \"business\", \"cost\", \"million\", \"available\", \"state\", \"small\", \"company\", \"national\", \"1961\", \"provide\", \"areas\", \"service\", \"use\", \"military\", \"tax\", \"public\", \"khrushchev\", \"player\", \"rayburn\", \"congo\", \"republican\", \"moscow\", \"southern\", \"baseball\", \"railroad\", \"castro\", \"troops\", \"yards\", \"charter\", \"yankees\", \"premier\", \"alexander\", \"democrats\", \"captain\", \"chinese\", \"coach\", \"laos\", \"gen\", \"cuban\", \"opposition\", \"soviet\", \"katanga\", \"republicans\", \"pope\", \"bombs\", \"robinson\", \"berlin\", \"speaker\", \"communist\", \"democratic\", \"eisenhower\", \"league\", \"mayor\", \"cuba\", \"st\", \"police\", \"yesterday\", \"china\", \"west\", \"monday\", \"race\", \"john\", \"east\", \"kennedy\", \"city\", \"mr\", \"meeting\", \"party\", \"president\", \"said\", \"week\", \"war\", \"political\", \"nations\", \"game\", \"committee\", \"leaders\", \"american\", \"world\", \"york\", \"home\", \"county\", \"man\", \"united\", \"people\", \"house\", \"state\", \"day\", \"old\", \"000\", \"government\", \"men\", \"national\", \"states\", \"school\", \"academic\", \"faculty\", \"trustees\", \"campus\", \"recognition\", \"classical\", \"professors\", \"mathematics\", \"musical\", \"tends\", \"feed\", \"stockholders\", \"fulfill\", \"meat\", \"unions\", \"chemical\", \"motors\", \"prosperity\", \"cattle\", \"prestige\", \"designer\", \"curriculum\", \"clerical\", \"catholic\", \"collective\", \"recorded\", \"appearances\", \"creative\", \"membership\", \"trust\", \"music\", \"chamber\", \"students\", \"student\", \"colleges\", \"teachers\", \"college\", \"engineer\", \"interior\", \"university\", \"daily\", \"pool\", \"schools\", \"education\", \"art\", \"general\", \"anti\", \"members\", \"technical\", \"labor\", \"design\", \"administration\", \"level\", \"work\", \"school\", \"president\", \"problem\", \"board\", \"department\", \"american\", \"good\", \"men\", \"aid\", \"world\", \"high\", \"cousin\", \"rehabilitation\", \"coal\", \"vocational\", \"definition\", \"denied\", \"thereof\", \"bonds\", \"payment\", \"rico\", \"puerto\", \"coordination\", \"filing\", \"adopting\", \"recommendation\", \"calendar\", \"hated\", \"proceedings\", \"commodities\", \"sectors\", \"connections\", \"62\", \"vehicles\", \"allocation\", \"treasury\", \"tractor\", \"adjustments\", \"upstairs\", \"shall\", \"assigned\", \"india\", \"exercise\", \"interference\", \"payments\", \"fiscal\", \"authorized\", \"claim\", \"stations\", \"insurance\", \"claims\", \"class\", \"states\", \"income\", \"return\", \"tax\", \"united\", \"junior\", \"hearing\", \"act\", \"countries\", \"cars\", \"state\", \"agreement\", \"department\", \"government\", \"secretary\", \"officer\", \"section\", \"title\", \"federal\", \"use\", \"service\", \"30\", \"board\", \"services\", \"pay\", \"local\", \"day\"], \"Freq\": [328.0, 485.0, 803.0, 307.0, 298.0, 123.0, 199.0, 172.0, 93.0, 107.0, 120.0, 273.0, 167.0, 178.0, 282.0, 122.0, 153.0, 124.0, 117.0, 297.0, 86.0, 147.0, 105.0, 237.0, 97.0, 97.0, 127.0, 230.0, 142.0, 95.0, 35.26603169767951, 35.25985457287084, 32.34282391715049, 32.33880808918394, 34.234073004331044, 31.327619231629452, 26.498517625454497, 25.524771041025012, 23.57323677816412, 25.427138253320575, 21.61942811514906, 30.993044678951435, 19.675700186736574, 51.43981707238503, 20.589733305570036, 17.726312752092973, 23.30504081082282, 16.7519733109185, 17.677966184967993, 15.781789493525485, 15.780666162782099, 15.76503813900025, 14.807347406646533, 14.806857679256785, 14.806525243898378, 14.805562659021431, 15.721341674975086, 14.793031300690535, 34.14874849426119, 27.74245501030449, 57.20416985925254, 90.05985801714516, 78.93387784968812, 75.71076669182486, 53.90723878296296, 29.98283937143006, 108.7307394199304, 50.25085074519488, 34.93419186644635, 48.2975237626705, 27.1417462075929, 83.9918324965761, 31.328311483268045, 234.33243224195743, 134.73682388828382, 142.22532063651914, 113.48998687104901, 84.70739288661417, 47.85107317359327, 58.281643606515296, 69.82209572678212, 54.44733492420311, 159.93873456068195, 71.32903793545277, 100.47914727932289, 70.80739412891485, 101.54763550743185, 56.56434544201606, 89.14937958191928, 57.94278765631507, 112.80221967394883, 300.1915799527007, 143.08214720581606, 108.66785528409186, 97.93192846288161, 146.72016490751062, 107.63695959300941, 81.83857826579656, 125.33252753577962, 93.65427756652946, 105.80662989454568, 122.43392673750706, 76.37882747857923, 81.85609009063349, 81.25833894745259, 87.71132897871959, 85.95109916972153, 84.11085690371297, 37.62033917696882, 41.260430437148244, 26.108504126894108, 38.01490066718638, 22.240995977940436, 21.223514374686594, 54.24848359225272, 50.39470006191916, 82.33814930496469, 17.226327234066925, 13.599502717078918, 16.290888590985418, 10.74063215723179, 17.00538725255213, 15.133342494227358, 72.03843499106004, 14.9382230602722, 24.574363297208013, 28.908173871233423, 17.448867762039573, 36.58474259793838, 7.854789008100244, 11.32225811859949, 6.9109631319057625, 6.906977941612578, 18.16721140781807, 30.17941537930661, 24.91805800990384, 32.6239312008637, 16.267831354180668, 85.04409531611367, 85.2307640836174, 92.04061867537722, 102.21030740338122, 31.419941862258113, 72.2935473615962, 160.5845669566946, 84.12221117794049, 39.27101304252745, 47.153525908302186, 110.99031567699521, 32.526568880509465, 35.569612133742766, 88.5138715566951, 93.20958887097952, 63.849746128262446, 50.27196273949974, 49.69605754659349, 72.6346942154113, 46.826210408830406, 53.98496787689085, 144.6286663472734, 123.50896845655345, 113.19861054790839, 73.61038906890676, 79.1613382990312, 74.66204969189884, 169.4652034229634, 100.42960965644957, 76.12853270707258, 92.20105914345227, 67.1606189347014, 66.50125650021184, 62.63129522802729, 86.66947068148019, 95.4163128039821, 65.25389352558301, 67.84173831149425, 65.61364145319419, 73.4255437478313, 48.677684982965985, 46.70642783836329, 43.73337493489191, 39.77817876808449, 37.80010747839435, 34.827228410194266, 39.61877024477506, 32.841809048472705, 29.88139792837259, 26.912817657012983, 26.899591011392985, 27.86029549757164, 25.92561583302565, 24.935202646112863, 24.927860722599355, 23.946196773271854, 23.938724665538558, 22.94971042948158, 22.94066110961126, 49.61478194372416, 21.955319680146985, 20.97470862289918, 20.956960655847766, 78.92743956978487, 19.982341472209388, 19.972841684788577, 19.967439518925563, 18.996535964167784, 18.994551077568097, 63.224259726459245, 40.660686563694924, 70.96278176057125, 59.00465760184101, 38.64663320997929, 57.991204762006454, 43.21771150153883, 36.746255661940815, 71.47530467432676, 44.37915026504061, 58.02965358273009, 32.82823725515498, 96.08418538831444, 58.46515417030855, 40.505659296092695, 142.98368478351745, 83.85420121427464, 111.14875577393386, 172.62353200026354, 287.87814236029925, 84.1321370261437, 92.01772270153494, 205.40634873734504, 470.8902208582244, 140.76265143255904, 113.0113995026157, 71.05038233619977, 67.16518889885616, 73.87620209973895, 83.76171945290609, 50.00246714063658, 148.64615016805288, 138.13586962558003, 96.83009236355014, 140.02404620727415, 76.8335005155321, 129.580375474847, 125.62152536157576, 118.36210204722647, 110.56501449327946, 148.84517946191065, 119.60071243642358, 108.76991140081125, 105.30536803757664, 99.52164947706349, 90.46561781118963, 91.57849254494288, 96.15786407278584, 83.84436994950278, 27.814826569302813, 48.93684709004381, 18.50350998538602, 14.879468477087592, 15.473941152164254, 9.373352607053887, 8.429864173735883, 7.546272419664467, 18.41492046315916, 7.518959799427091, 84.44155436104498, 18.268486568333245, 6.622128289059273, 19.54171382466288, 18.587130254336028, 23.146111999202677, 38.251971813159514, 4.773288678682491, 17.381566736920487, 10.238816773832252, 14.802706325018903, 7.011676741661572, 4.663272913791579, 25.47959588243636, 10.014582060857464, 7.5823981589188, 4.540015041329321, 12.853649254073659, 19.425628383036745, 29.706978723475192, 46.82501087835104, 21.450400541392533, 52.99436840196045, 54.95528137361026, 16.311008295186777, 25.620730698223632, 83.62014229714183, 24.941675902345967, 28.633459492336456, 67.01241734256517, 33.33126174190031, 43.627376544116885, 49.32037920831117, 46.418285704161356, 34.85619603196507, 67.66899625922272, 32.10381351159192, 51.62302814445781, 31.177936996002963, 33.895493042175644, 35.04082063901751, 44.49327955892751, 35.22883442674211, 56.48861252778429, 47.167119511569695, 55.687789661338364, 39.64150536052304, 42.71566054539151, 38.01482404768493, 43.0151097836736, 42.90256178570305, 38.25715440917971, 34.06878160168692, 37.6287965045149, 34.846070732697974, 24.895381739117873, 17.60871047105588, 22.617152720693348, 12.988354717680876, 12.08165117895214, 17.25576125805926, 11.043916669732477, 28.504391307941997, 36.75187172723344, 17.292619041590637, 17.289973715259674, 6.586201822372011, 15.531276371536071, 5.669749860722175, 16.069958421934672, 20.12573678235812, 5.626627615289107, 6.416436823858451, 14.343171489794159, 4.761534756745227, 5.547238482984909, 5.532508833757126, 35.569508144023935, 10.223530392476093, 22.866566967658436, 19.499373411737206, 10.913572827235138, 5.430408333634709, 101.16733937850283, 9.141628146127156, 29.6043778115428, 21.945570724591853, 28.49445862632905, 31.902747941396854, 82.24350507900873, 23.619992267390902, 32.82368814475586, 43.57399739685003, 25.75731022225961, 22.21335819721847, 63.52515544416802, 175.30239292056538, 50.03986268624452, 41.16101243435987, 86.65875331991592, 128.39237926387295, 39.91034171743862, 33.81578682770533, 65.01077528351152, 47.420605346201285, 40.209279592813346, 156.29426259716777, 38.83917469224567, 66.04762002986969, 93.49618556474525, 54.83909075025103, 32.98378789632119, 41.66456800174137, 29.989970407909485, 43.233051375567925, 57.37752089386135, 52.70114914664642, 42.22418118531026, 42.52715360132936, 36.82910800278599, 37.0968106293756, 36.744421287419065, 37.176157676027586], \"Total\": [328.0, 485.0, 803.0, 307.0, 298.0, 123.0, 199.0, 172.0, 93.0, 107.0, 120.0, 273.0, 167.0, 178.0, 282.0, 122.0, 153.0, 124.0, 117.0, 297.0, 86.0, 147.0, 105.0, 237.0, 97.0, 97.0, 127.0, 230.0, 142.0, 95.0, 36.026039124999855, 36.02588883819034, 33.103221722997645, 33.1031994515162, 35.05056255948611, 32.12853787483271, 27.257595896582224, 26.2833810576982, 24.334723323645928, 26.28457560730936, 22.38617131270356, 32.13491772930472, 20.43764235373042, 53.48541765786134, 21.413009212119373, 18.488977697815788, 24.319878358135636, 17.514841028502047, 18.48997788651864, 16.54070720566731, 16.54068383919485, 16.540152118252482, 15.566432075823172, 15.566368553159576, 15.566439385894087, 15.56640853615906, 16.54112310277151, 15.566128130021552, 35.96189057796923, 29.21687336390236, 60.420302485952554, 97.50813665440423, 85.71452146351679, 82.7655748288131, 58.48806964583603, 32.15043643449321, 124.77305109139077, 55.495934070275915, 37.89639184076528, 53.448753785668856, 29.186855354435654, 98.42108266493297, 34.108659255171254, 307.99715835781416, 167.83422712513698, 178.18542278378123, 139.82171036116085, 103.42674442190594, 54.56223811623198, 68.76954856434934, 84.83647160041039, 64.26201397041541, 237.75277971425632, 90.51973633420364, 137.7059309562873, 91.77444009129961, 147.7937685617617, 70.06214294099414, 129.8665751690667, 73.99592681862177, 191.4807208043414, 803.8548070648297, 274.8542726057725, 186.0737233498349, 163.15899799670473, 306.4340359076893, 190.1554441273065, 123.89985251249685, 254.8494682894126, 162.71698521260248, 213.5733828440321, 283.0153604519204, 121.95636925526729, 161.53017716157905, 163.20991301290184, 234.12184367687408, 302.34647433345026, 268.5137641979603, 38.38900181276887, 42.21975114655721, 26.870239511488503, 39.325305112537485, 23.03135590818637, 22.06902387883877, 56.676640666140976, 52.83541185825136, 86.46800449904794, 18.221477632163285, 14.390064081926628, 17.262361508112342, 11.51144266243097, 18.23745719845578, 16.292903446551154, 78.46760127905377, 16.284197226960217, 26.8022689572576, 31.645263380810675, 19.14727441136658, 40.189557722273335, 8.631750433563743, 12.45816909897064, 7.67183664771721, 7.671950307157883, 20.188446423100288, 33.58228715547518, 27.758165731678805, 36.44648449277575, 18.179838892874404, 95.5995810902009, 96.93212392160403, 105.65758026062859, 117.78573708942234, 35.55944348942254, 85.01192732215922, 199.001136839331, 101.02292341395632, 45.143814883594374, 54.90118963074981, 142.66262791524017, 37.275769525790786, 41.99097586369726, 120.3327704568789, 129.77818451581425, 84.83256378608148, 63.72708403807206, 62.84418723668017, 102.98876739202466, 59.70895018138001, 72.90815716856002, 282.9442741244362, 230.3215726978669, 209.3237474816219, 115.94033775080973, 128.9930469541294, 119.71572579817433, 485.5254739281196, 211.3753924823506, 138.5374085496048, 215.73422314818598, 114.91801537520548, 112.93575546782293, 99.90679935398622, 203.579090342185, 253.44869724604663, 123.30539886857134, 172.80964183116544, 200.80538207395304, 74.18132611605132, 49.44169052826697, 47.462601199239465, 44.49359036010499, 40.535513996171396, 38.5563898507648, 35.58752782843551, 40.524089011304085, 33.60786999510347, 30.639652232810256, 27.670894341231335, 27.670809878218463, 28.659135933770333, 26.681481371686985, 25.691806203590648, 25.691678325478712, 24.702282074756585, 24.70215427298782, 23.71248703300206, 23.71193932275298, 51.34436129166914, 22.722416271833254, 21.7334110820285, 21.73225191921755, 81.93116365784142, 20.743599793201987, 20.7429113776574, 20.74332961345867, 19.75425783489288, 19.754312772549596, 66.10674015267469, 42.436983762163024, 74.99667222533036, 62.13038324129467, 40.45277924173407, 61.20732427285947, 45.379272772809315, 38.479585522126314, 78.03996648950981, 47.297256235347305, 63.027230870364605, 34.52865293710656, 108.34119862739158, 64.00922906655565, 43.3407031416964, 171.40817645781533, 96.50766365165036, 132.04188079153843, 217.9054891778165, 392.85663935368365, 99.38191347480664, 110.4119071013219, 297.089385911943, 803.8548070648297, 190.9527989971512, 148.1289582730565, 84.33186741272118, 80.65436811910898, 91.54281280787275, 111.05863796939238, 55.265203097107154, 262.8761488078903, 256.0899824588554, 148.46972078147343, 268.5137641979603, 105.84498183835272, 283.0153604519204, 298.72403397416883, 265.61772341053467, 234.12184367687408, 485.5254739281196, 302.34647433345026, 254.8494682894126, 282.9442741244362, 273.1049196397212, 193.4951872205606, 215.73422314818598, 328.08766300343234, 171.68266645156024, 28.58767119100292, 50.752351040054734, 19.380805810594016, 15.693304333758912, 16.633414863075235, 10.165631588135199, 9.245712123820635, 8.322226888959065, 20.34853979312966, 8.32234129436147, 93.52912134200915, 20.35067352827831, 7.401195317063846, 22.202972880525145, 21.263556998272605, 26.864176614307805, 44.466850734734706, 5.559156794388781, 20.42984832479435, 12.08056672694892, 17.616166085442234, 8.344571664079334, 5.5636145258569005, 30.740062340111137, 12.097121988775985, 9.309062259927517, 5.575810965371198, 15.790102910241043, 24.236359627179493, 37.14065807513559, 59.642613248128555, 27.081082977874395, 68.97438698866304, 71.68275492289165, 20.46714171356444, 33.347601350252496, 120.99975166695653, 32.580289308120776, 39.896080519574916, 122.31078776847792, 52.49852760150618, 75.23212830270081, 89.45812584148678, 84.56146294600377, 57.4932583527358, 198.00621277778873, 57.797206402033446, 140.21994582812468, 57.243567658301586, 68.34216300022533, 74.72871037779436, 131.40907157119446, 82.98496450235842, 256.9778623927557, 171.68266645156024, 297.089385911943, 117.36282478725464, 173.02514764709449, 153.0306200256714, 262.8761488078903, 306.4340359076893, 193.4951872205606, 99.64739691842244, 256.0899824588554, 217.96093203160197, 25.719900356958053, 18.379206160058736, 23.88499509622213, 13.795801363596539, 12.877393873437658, 18.395872134442097, 11.965555537317085, 31.30178852783, 40.525553449448076, 19.30574761946472, 19.30538173564193, 7.373665018594327, 17.516110794478603, 6.45650486790385, 18.38654313683194, 23.07591468933508, 6.459370956327396, 7.374057915469377, 16.593451639249707, 5.538818995171561, 6.46221952624134, 6.457204216744029, 41.58244844081566, 11.9630529703163, 26.870254060738752, 23.091351462145543, 12.93156093520783, 6.471692815484657, 123.04949327572959, 11.129093826135703, 36.08726596770412, 26.774612595552753, 35.19197255344364, 39.79154818535321, 107.51555928474934, 29.57370429691551, 42.546659941506604, 57.808559354593825, 33.291642037189135, 28.65897514261254, 97.16968285832556, 328.08766300343234, 79.94285226747918, 64.56516799991897, 172.80964183116544, 298.72403397416883, 62.790765491912566, 50.55168073966477, 127.86759220361657, 82.87435176840464, 65.846479737197, 485.5254739281196, 64.87874739797832, 153.0306200256714, 273.1049196397212, 119.84296064796628, 52.25627453052488, 81.49566812100713, 44.58064300425597, 112.63804601931169, 253.44869724604663, 203.579090342185, 114.38793137157582, 173.02514764709449, 93.386576245304, 103.89058589990485, 128.4211437283209, 302.34647433345026], \"Category\": [\"Default\", \"Default\", \"Default\", \"Default\", \"Default\", \"Default\", \"Default\", \"Default\", \"Default\", \"Default\", \"Default\", \"Default\", \"Default\", \"Default\", \"Default\", \"Default\", \"Default\", \"Default\", \"Default\", \"Default\", \"Default\", \"Default\", \"Default\", \"Default\", \"Default\", \"Default\", \"Default\", \"Default\", \"Default\", \"Default\", \"Topic1\", \"Topic1\", \"Topic1\", \"Topic1\", \"Topic1\", \"Topic1\", \"Topic1\", \"Topic1\", \"Topic1\", \"Topic1\", \"Topic1\", \"Topic1\", \"Topic1\", \"Topic1\", \"Topic1\", \"Topic1\", \"Topic1\", \"Topic1\", \"Topic1\", \"Topic1\", \"Topic1\", \"Topic1\", \"Topic1\", \"Topic1\", \"Topic1\", \"Topic1\", \"Topic1\", \"Topic1\", \"Topic1\", \"Topic1\", \"Topic1\", \"Topic1\", \"Topic1\", \"Topic1\", \"Topic1\", \"Topic1\", \"Topic1\", \"Topic1\", \"Topic1\", \"Topic1\", \"Topic1\", \"Topic1\", \"Topic1\", \"Topic1\", \"Topic1\", \"Topic1\", \"Topic1\", \"Topic1\", \"Topic1\", \"Topic1\", \"Topic1\", \"Topic1\", \"Topic1\", \"Topic1\", \"Topic1\", \"Topic1\", \"Topic1\", \"Topic1\", \"Topic1\", \"Topic1\", \"Topic1\", \"Topic1\", \"Topic1\", \"Topic1\", \"Topic1\", \"Topic1\", \"Topic1\", \"Topic1\", \"Topic1\", \"Topic1\", \"Topic1\", \"Topic1\", \"Topic1\", \"Topic1\", \"Topic1\", \"Topic1\", \"Topic1\", \"Topic1\", \"Topic2\", \"Topic2\", \"Topic2\", \"Topic2\", \"Topic2\", \"Topic2\", \"Topic2\", \"Topic2\", \"Topic2\", \"Topic2\", \"Topic2\", \"Topic2\", \"Topic2\", \"Topic2\", \"Topic2\", \"Topic2\", \"Topic2\", \"Topic2\", \"Topic2\", \"Topic2\", \"Topic2\", \"Topic2\", \"Topic2\", \"Topic2\", \"Topic2\", \"Topic2\", \"Topic2\", \"Topic2\", \"Topic2\", \"Topic2\", \"Topic2\", \"Topic2\", \"Topic2\", \"Topic2\", \"Topic2\", \"Topic2\", \"Topic2\", \"Topic2\", \"Topic2\", \"Topic2\", \"Topic2\", \"Topic2\", \"Topic2\", \"Topic2\", \"Topic2\", \"Topic2\", \"Topic2\", \"Topic2\", \"Topic2\", \"Topic2\", \"Topic2\", \"Topic2\", \"Topic2\", \"Topic2\", \"Topic2\", \"Topic2\", \"Topic2\", \"Topic2\", \"Topic2\", \"Topic2\", \"Topic2\", \"Topic2\", \"Topic2\", \"Topic2\", \"Topic2\", \"Topic2\", \"Topic2\", \"Topic2\", \"Topic2\", \"Topic3\", \"Topic3\", \"Topic3\", \"Topic3\", \"Topic3\", \"Topic3\", \"Topic3\", \"Topic3\", \"Topic3\", \"Topic3\", \"Topic3\", \"Topic3\", \"Topic3\", \"Topic3\", \"Topic3\", \"Topic3\", \"Topic3\", \"Topic3\", \"Topic3\", \"Topic3\", \"Topic3\", \"Topic3\", \"Topic3\", \"Topic3\", \"Topic3\", \"Topic3\", \"Topic3\", \"Topic3\", \"Topic3\", \"Topic3\", \"Topic3\", \"Topic3\", \"Topic3\", \"Topic3\", \"Topic3\", \"Topic3\", \"Topic3\", \"Topic3\", \"Topic3\", \"Topic3\", \"Topic3\", \"Topic3\", \"Topic3\", \"Topic3\", \"Topic3\", \"Topic3\", \"Topic3\", \"Topic3\", \"Topic3\", \"Topic3\", \"Topic3\", \"Topic3\", \"Topic3\", \"Topic3\", \"Topic3\", \"Topic3\", \"Topic3\", \"Topic3\", \"Topic3\", \"Topic3\", \"Topic3\", \"Topic3\", \"Topic3\", \"Topic3\", \"Topic3\", \"Topic3\", \"Topic3\", \"Topic3\", \"Topic3\", \"Topic3\", \"Topic3\", \"Topic3\", \"Topic3\", \"Topic3\", \"Topic3\", \"Topic3\", \"Topic3\", \"Topic3\", \"Topic3\", \"Topic4\", \"Topic4\", \"Topic4\", \"Topic4\", \"Topic4\", \"Topic4\", \"Topic4\", \"Topic4\", \"Topic4\", \"Topic4\", \"Topic4\", \"Topic4\", \"Topic4\", \"Topic4\", \"Topic4\", \"Topic4\", \"Topic4\", \"Topic4\", \"Topic4\", \"Topic4\", \"Topic4\", \"Topic4\", \"Topic4\", \"Topic4\", \"Topic4\", \"Topic4\", \"Topic4\", \"Topic4\", \"Topic4\", \"Topic4\", \"Topic4\", \"Topic4\", \"Topic4\", \"Topic4\", \"Topic4\", \"Topic4\", \"Topic4\", \"Topic4\", \"Topic4\", \"Topic4\", \"Topic4\", \"Topic4\", \"Topic4\", \"Topic4\", \"Topic4\", \"Topic4\", \"Topic4\", \"Topic4\", \"Topic4\", \"Topic4\", \"Topic4\", \"Topic4\", \"Topic4\", \"Topic4\", \"Topic4\", \"Topic4\", \"Topic4\", \"Topic4\", \"Topic4\", \"Topic4\", \"Topic4\", \"Topic4\", \"Topic4\", \"Topic4\", \"Topic4\", \"Topic5\", \"Topic5\", \"Topic5\", \"Topic5\", \"Topic5\", \"Topic5\", \"Topic5\", \"Topic5\", \"Topic5\", \"Topic5\", \"Topic5\", \"Topic5\", \"Topic5\", \"Topic5\", \"Topic5\", \"Topic5\", \"Topic5\", \"Topic5\", \"Topic5\", \"Topic5\", \"Topic5\", \"Topic5\", \"Topic5\", \"Topic5\", \"Topic5\", \"Topic5\", \"Topic5\", \"Topic5\", \"Topic5\", \"Topic5\", \"Topic5\", \"Topic5\", \"Topic5\", \"Topic5\", \"Topic5\", \"Topic5\", \"Topic5\", \"Topic5\", \"Topic5\", \"Topic5\", \"Topic5\", \"Topic5\", \"Topic5\", \"Topic5\", \"Topic5\", \"Topic5\", \"Topic5\", \"Topic5\", \"Topic5\", \"Topic5\", \"Topic5\", \"Topic5\", \"Topic5\", \"Topic5\", \"Topic5\", \"Topic5\", \"Topic5\", \"Topic5\", \"Topic5\", \"Topic5\", \"Topic5\", \"Topic5\", \"Topic5\", \"Topic5\", \"Topic5\", \"Topic5\", \"Topic5\", \"Topic5\"], \"logprob\": [30.0, 29.0, 28.0, 27.0, 26.0, 25.0, 24.0, 23.0, 22.0, 21.0, 20.0, 19.0, 18.0, 17.0, 16.0, 15.0, 14.0, 13.0, 12.0, 11.0, 10.0, 9.0, 8.0, 7.0, 6.0, 5.0, 4.0, 3.0, 2.0, 1.0, -6.6963, -6.6965, -6.7828, -6.7829, -6.726, -6.8147, -6.9821, -7.0195, -7.0991, -7.0234, -7.1856, -6.8254, -7.2798, -6.3188, -7.2344, -7.3841, -7.1105, -7.4407, -7.3869, -7.5003, -7.5004, -7.5014, -7.5641, -7.5641, -7.5641, -7.5642, -7.5042, -7.565, -6.7285, -6.9362, -6.2126, -5.7587, -5.8906, -5.9323, -6.2719, -6.8586, -5.5703, -6.3422, -6.7057, -6.3818, -6.9581, -5.8285, -6.8147, -4.8025, -5.3559, -5.3018, -5.5275, -5.82, -6.3911, -6.1939, -6.0132, -6.262, -5.1844, -5.9919, -5.6492, -5.9992, -5.6387, -6.2238, -5.7689, -6.1997, -5.5336, -4.5548, -5.2958, -5.5709, -5.6749, -5.2707, -5.5804, -5.8544, -5.4282, -5.7196, -5.5976, -5.4516, -5.9235, -5.8542, -5.8616, -5.7851, -5.8054, -5.8271, -6.5177, -6.4254, -6.883, -6.5073, -7.0434, -7.0902, -6.1517, -6.2254, -5.7345, -7.2989, -7.5353, -7.3547, -7.7713, -7.3118, -7.4284, -5.8681, -7.4414, -6.9436, -6.7812, -7.286, -6.5457, -8.0842, -7.7185, -8.2122, -8.2128, -7.2457, -6.7381, -6.9297, -6.6602, -7.3561, -5.7021, -5.6999, -5.6231, -5.5183, -6.6978, -5.8646, -5.0665, -5.713, -6.4748, -6.2919, -5.4358, -6.6632, -6.5738, -5.6621, -5.6104, -5.9888, -6.2278, -6.2394, -5.8598, -6.2988, -6.1566, -5.1711, -5.329, -5.4161, -5.8465, -5.7738, -5.8323, -5.0126, -5.5358, -5.8129, -5.6213, -5.9382, -5.9481, -6.008, -5.6832, -5.587, -5.967, -5.9281, -5.9615, -6.2979, -6.7089, -6.7502, -6.816, -6.9108, -6.9618, -7.0437, -6.9148, -7.1024, -7.1969, -7.3015, -7.302, -7.2669, -7.3389, -7.3778, -7.3781, -7.4183, -7.4186, -7.4608, -7.4612, -6.6898, -7.5051, -7.5508, -7.5517, -6.2256, -7.5993, -7.5997, -7.6, -7.6499, -7.65, -6.4474, -6.8889, -6.332, -6.5165, -6.9397, -6.5338, -6.8279, -6.9901, -6.3248, -6.8014, -6.5332, -7.1028, -6.0289, -6.5257, -6.8927, -5.6314, -6.165, -5.8833, -5.443, -4.9316, -6.1617, -6.0721, -5.2691, -4.4395, -5.647, -5.8666, -6.3307, -6.387, -6.2917, -6.1661, -6.6821, -5.5926, -5.6659, -6.0212, -5.6523, -6.2525, -5.7298, -5.7608, -5.8204, -5.8885, -5.5912, -5.81, -5.9049, -5.9373, -5.9937, -6.0892, -6.0769, -6.0281, -6.1652, -6.3178, -5.7528, -6.7254, -6.9434, -6.9042, -7.4055, -7.5116, -7.6223, -6.7302, -7.6259, -5.2073, -6.7382, -7.753, -6.6708, -6.7209, -6.5015, -5.9992, -8.0803, -6.788, -7.3172, -6.9486, -7.6958, -8.1037, -6.4055, -7.3393, -7.6175, -8.1304, -7.0897, -6.6768, -6.252, -5.797, -6.5776, -5.6732, -5.6369, -6.8515, -6.4, -5.2171, -6.4268, -6.2888, -5.4385, -6.1369, -5.8677, -5.745, -5.8057, -6.0921, -5.4287, -6.1744, -5.6994, -6.2037, -6.1201, -6.0869, -5.848, -6.0815, -5.6093, -5.7897, -5.6236, -5.9635, -5.8888, -6.0054, -5.8818, -5.8844, -5.999, -6.115, -6.0156, -6.0924, -6.4228, -6.7691, -6.5188, -7.0734, -7.1458, -6.7893, -7.2356, -6.2874, -6.0333, -6.7872, -6.7873, -7.7525, -6.8946, -7.9023, -6.8605, -6.6355, -7.91, -7.7786, -6.9742, -8.0769, -7.9242, -7.9268, -6.066, -7.3128, -6.5078, -6.6671, -7.2475, -7.9454, -5.0207, -7.4246, -6.2495, -6.5489, -6.2878, -6.1748, -5.2278, -6.4754, -6.1463, -5.863, -6.3887, -6.5368, -5.486, -4.471, -5.7246, -5.92, -5.1755, -4.7824, -5.9508, -6.1165, -5.4629, -5.7784, -5.9434, -4.5857, -5.978, -5.4471, -5.0995, -5.6331, -6.1414, -5.9078, -6.2366, -5.8709, -5.5878, -5.6728, -5.8945, -5.8873, -6.0312, -6.0239, -6.0335, -6.0218], \"loglift\": [30.0, 29.0, 28.0, 27.0, 26.0, 25.0, 24.0, 23.0, 22.0, 21.0, 20.0, 19.0, 18.0, 17.0, 16.0, 15.0, 14.0, 13.0, 12.0, 11.0, 10.0, 9.0, 8.0, 7.0, 6.0, 5.0, 4.0, 3.0, 2.0, 1.0, 1.4528, 1.4527, 1.4509, 1.4508, 1.4506, 1.4489, 1.4459, 1.4449, 1.4424, 1.441, 1.4393, 1.438, 1.4362, 1.4352, 1.435, 1.432, 1.4315, 1.4296, 1.4293, 1.4272, 1.4271, 1.4262, 1.4242, 1.4241, 1.4241, 1.4241, 1.4233, 1.4232, 1.4224, 1.4224, 1.4195, 1.3947, 1.3918, 1.3851, 1.3926, 1.4044, 1.3365, 1.3749, 1.3928, 1.3728, 1.4015, 1.3156, 1.3891, 1.2008, 1.2545, 1.2488, 1.2655, 1.2745, 1.3429, 1.3087, 1.2794, 1.3084, 1.0777, 1.2359, 1.159, 1.2148, 1.0989, 1.2602, 1.098, 1.2296, 0.945, 0.4892, 0.8213, 0.9363, 0.9637, 0.7377, 0.9051, 1.0594, 0.7645, 0.9218, 0.7718, 0.6362, 1.0062, 0.7944, 0.7768, 0.4924, 0.2164, 0.3134, 1.5678, 1.5651, 1.5593, 1.5542, 1.5532, 1.549, 1.5443, 1.5408, 1.5391, 1.5319, 1.5316, 1.5301, 1.5188, 1.5181, 1.5142, 1.5026, 1.5018, 1.5013, 1.4976, 1.4952, 1.4941, 1.4937, 1.4925, 1.4836, 1.483, 1.4826, 1.4812, 1.4801, 1.4773, 1.4769, 1.4711, 1.4594, 1.4501, 1.4462, 1.4643, 1.426, 1.3736, 1.405, 1.4487, 1.4359, 1.337, 1.4518, 1.4221, 1.281, 1.2571, 1.3039, 1.3509, 1.3533, 1.2389, 1.345, 1.2876, 0.917, 0.9649, 0.9733, 1.1338, 1.0998, 1.1159, 0.5355, 0.8439, 0.9894, 0.738, 1.0509, 1.0585, 1.1211, 0.7341, 0.6112, 0.9517, 0.6531, 0.4695, 1.129, 1.1237, 1.1232, 1.122, 1.1204, 1.1194, 1.1176, 1.1166, 1.1162, 1.1142, 1.1115, 1.111, 1.111, 1.1105, 1.1093, 1.1091, 1.1082, 1.1078, 1.1065, 1.1062, 1.105, 1.1049, 1.1037, 1.1029, 1.1019, 1.1018, 1.1014, 1.1011, 1.1001, 1.1, 1.0947, 1.0965, 1.084, 1.0876, 1.0936, 1.0853, 1.0904, 1.0931, 1.0514, 1.0756, 1.0566, 1.0887, 1.0192, 1.0486, 1.0716, 0.9579, 0.9987, 0.967, 0.9063, 0.8283, 0.9727, 0.957, 0.7702, 0.6044, 0.8343, 0.8686, 0.9679, 0.9562, 0.9248, 0.8572, 1.0392, 0.5691, 0.5219, 0.7118, 0.4882, 0.8189, 0.358, 0.273, 0.3309, 0.389, -0.0431, 0.2118, 0.2878, 0.1509, 0.1298, 0.379, 0.2824, -0.0881, 0.4226, 2.0626, 2.0536, 2.0437, 2.0367, 2.0177, 2.0088, 1.9976, 1.9921, 1.9901, 1.9885, 1.9878, 1.9821, 1.9788, 1.9623, 1.9555, 1.941, 1.9394, 1.9376, 1.9284, 1.9246, 1.916, 1.916, 1.9135, 1.9023, 1.9011, 1.8848, 1.8845, 1.8842, 1.8687, 1.8667, 1.848, 1.8569, 1.8264, 1.8243, 1.863, 1.8264, 1.7205, 1.8228, 1.7583, 1.4883, 1.6357, 1.5451, 1.4946, 1.4902, 1.5896, 1.0163, 1.502, 1.0907, 1.4824, 1.3887, 1.3326, 1.007, 1.2332, 0.575, 0.798, 0.4157, 1.0046, 0.6911, 0.6973, 0.2799, 0.1239, 0.4691, 1.0167, 0.1722, 0.2566, 2.0633, 2.0531, 2.0414, 2.0356, 2.0321, 2.0319, 2.0157, 2.0023, 1.9982, 1.9858, 1.9856, 1.983, 1.9756, 1.966, 1.9612, 1.9591, 1.9579, 1.9568, 1.9502, 1.9447, 1.9432, 1.9413, 1.9397, 1.9388, 1.9346, 1.9268, 1.9262, 1.9205, 1.9001, 1.8992, 1.8979, 1.897, 1.8848, 1.8749, 1.8279, 1.8711, 1.8364, 1.8132, 1.8393, 1.8411, 1.6709, 1.4691, 1.6274, 1.6457, 1.4057, 1.2515, 1.6427, 1.6938, 1.4195, 1.5376, 1.6027, 0.9624, 1.5828, 1.2556, 1.024, 1.3141, 1.6358, 1.425, 1.6995, 1.1383, 0.6104, 0.7445, 1.0993, 0.6926, 1.1654, 1.0661, 0.8446, -0.0]}, \"token.table\": {\"Topic\": [1, 2, 3, 4, 5, 2, 3, 2, 3, 5, 1, 2, 3, 4, 5, 1, 2, 3, 4, 5, 5, 4, 1, 2, 3, 4, 5, 2, 5, 2, 3, 4, 5, 5, 2, 3, 5, 1, 2, 3, 4, 5, 2, 3, 3, 4, 5, 1, 2, 3, 4, 5, 1, 3, 4, 5, 4, 1, 2, 3, 4, 5, 1, 2, 3, 4, 2, 3, 5, 2, 4, 5, 1, 2, 4, 5, 1, 3, 4, 5, 1, 2, 2, 5, 3, 1, 5, 3, 4, 2, 3, 1, 3, 4, 1, 2, 3, 4, 5, 2, 5, 3, 2, 5, 1, 1, 2, 3, 4, 5, 1, 2, 5, 1, 2, 3, 5, 4, 3, 2, 3, 5, 3, 3, 4, 1, 3, 4, 3, 4, 3, 2, 4, 3, 4, 3, 1, 2, 3, 5, 2, 3, 4, 5, 2, 3, 4, 5, 1, 3, 4, 5, 4, 1, 2, 3, 4, 1, 1, 1, 2, 3, 4, 3, 4, 5, 1, 3, 4, 1, 2, 3, 4, 1, 2, 3, 4, 1, 1, 2, 1, 2, 3, 4, 5, 2, 3, 4, 2, 4, 5, 2, 3, 5, 2, 3, 4, 5, 2, 5, 2, 3, 5, 2, 5, 1, 2, 3, 4, 5, 1, 5, 2, 3, 4, 5, 2, 3, 4, 5, 5, 2, 3, 4, 3, 5, 3, 2, 4, 1, 2, 3, 4, 5, 1, 2, 3, 4, 5, 5, 3, 4, 3, 2, 5, 2, 3, 4, 5, 1, 2, 4, 2, 4, 1, 2, 4, 5, 1, 3, 4, 1, 2, 3, 4, 5, 1, 3, 4, 1, 3, 1, 1, 2, 3, 5, 1, 2, 3, 4, 5, 3, 5, 2, 1, 2, 4, 1, 1, 2, 4, 1, 4, 5, 1, 3, 4, 1, 4, 2, 3, 4, 5, 1, 2, 3, 4, 1, 2, 5, 1, 2, 5, 1, 2, 5, 1, 4, 1, 2, 3, 4, 3, 1, 2, 3, 4, 5, 1, 2, 3, 4, 5, 1, 3, 2, 3, 4, 5, 1, 3, 1, 3, 1, 1, 1, 5, 3, 4, 5, 1, 1, 2, 3, 4, 5, 1, 2, 3, 4, 5, 1, 2, 3, 4, 5, 1, 2, 3, 4, 1, 2, 4, 5, 2, 3, 4, 5, 2, 4, 2, 3, 4, 5, 2, 3, 4, 5, 2, 3, 4, 5, 2, 3, 4, 5, 2, 2, 4, 1, 2, 3, 4, 5, 1, 2, 3, 4, 5, 1, 3, 4, 5, 3, 2, 3, 4, 5, 3, 1, 3, 4, 5, 1, 2, 3, 4, 5, 2, 3, 4, 5, 2, 3, 5, 1, 2, 3, 1, 3, 4, 1, 3, 4, 5, 1, 2, 3, 4, 5, 1, 2, 3, 4, 5, 1, 2, 3, 4, 5, 1, 1, 2, 3, 4, 5, 1, 3, 4, 5, 1, 2, 3, 4, 5, 1, 2, 3, 4, 5, 1, 2, 3, 5, 2, 3, 2, 3, 5, 1, 2, 4, 1, 2, 3, 4, 5, 2, 4, 2, 3, 2, 4, 3, 4, 3, 4, 5, 2, 4, 5, 1, 2, 3, 4, 1, 2, 3, 4, 2, 3, 4, 1, 2, 3, 4, 5, 2, 3, 5, 1, 2, 3, 4, 5, 2, 4, 2, 1, 3, 4, 5, 3, 1, 3, 2, 4, 1, 2, 3, 4, 5, 1, 3, 1, 4, 2, 4, 1, 2, 3, 4, 5, 2, 3, 4, 5, 2, 3, 4, 5, 1, 2, 3, 4, 5, 3, 1, 1, 3, 4, 1, 2, 3, 4, 5, 2, 5, 2, 5, 1, 2, 3, 4, 5, 1, 2, 3, 4, 1, 1, 2, 3, 4, 5, 1, 2, 4, 5, 3, 2, 3, 4, 5, 2, 3, 4, 5, 1, 2, 4, 5, 3, 3, 1, 2, 3, 4, 5, 3, 4, 2, 3, 4, 5, 5, 2, 5, 1, 2, 3, 4, 5, 1, 2, 4, 5, 4, 2, 3, 4, 5, 1, 2, 4, 5, 4, 1, 2, 3, 4, 5, 2, 3, 4, 2, 3, 4, 5, 4, 5, 3, 5, 1, 2, 3, 1, 2, 3, 4, 5, 3, 1, 4, 4, 5, 3, 4, 1, 2, 5, 5, 3, 3, 1, 2, 3, 4, 5, 1, 3, 4, 5, 2, 3, 4, 5, 1, 2, 3, 4, 5, 3, 1, 3, 5, 1, 2, 3, 4, 5, 2, 3, 4, 5, 1, 3, 4, 1, 2, 1, 2, 3, 4, 5, 1, 2, 3, 4, 5, 2, 3, 4, 5, 1, 2, 4, 5, 5, 1, 2, 3, 4, 5, 2, 3, 4, 5, 1, 2, 3, 4, 5, 2, 3, 5, 1, 3, 2, 1, 2, 3, 4, 5, 1, 3, 4, 5, 3, 3, 4, 3, 4, 5, 1, 3, 1, 1, 2, 3, 4, 5, 2, 3, 4, 5, 2, 3, 5, 2, 4, 1, 2, 3, 4, 5, 1, 2, 3, 4, 5, 1, 1, 3, 5, 1, 3, 4, 5, 1, 1, 2, 3, 4, 5, 2, 2, 4, 5, 3, 4, 5, 2, 4, 4, 5, 1, 2, 3, 4, 5, 1, 3, 4, 5, 2, 5, 3, 5, 1, 3, 3, 2, 3, 4, 5, 4, 2, 4, 5, 2, 3, 4, 5, 1, 2, 3, 4, 5, 1, 2, 3, 4, 5, 2, 4, 1, 2, 3, 5, 2, 3, 5, 5, 1, 1, 2, 3, 4, 5, 1, 3, 1, 2, 4, 5, 1, 2, 3, 4, 5, 1, 2, 3, 4, 5, 1, 3, 4, 2, 3, 5, 1, 1, 3, 4, 1, 2, 3, 4, 5, 1, 2, 3, 4, 5, 3, 3, 1, 1, 3, 4, 2, 5, 1, 2, 3, 4, 5], \"Freq\": [0.0035342648409990777, 0.5124684019448662, 0.37109780830490313, 0.021205589045994466, 0.09542515070697509, 0.7845957610445321, 0.20399489787157835, 0.7166073431137219, 0.1926363825574521, 0.09246546362757702, 0.008701855812032743, 0.5830243394061938, 0.21754639530081857, 0.05221113487219646, 0.14793154880455664, 0.017484361995351014, 0.1748436199535101, 0.39339814489539776, 0.04371090498837753, 0.36717160190237125, 0.9291947100637667, 0.9794431946877901, 0.015641179798046065, 0.2189765171726449, 0.08602648888925336, 0.17987356767752974, 0.5083383434364971, 0.07733018504188245, 0.850632035460707, 0.281563514281084, 0.3120028131222823, 0.334832287253181, 0.0684884223926961, 0.9292953575899561, 0.154133678609085, 0.2312005179136275, 0.6011213465754315, 0.010035385077029781, 0.3713092478501019, 0.2007077015405956, 0.34120309261901255, 0.07024769553920847, 0.9527734771383509, 0.03528790656067966, 0.9730777290328765, 0.08359070234674053, 0.8359070234674053, 0.03804072771664041, 0.15216291086656164, 0.566806842977942, 0.16357512918155376, 0.0836896009766089, 0.9700272268753705, 0.39794310887646644, 0.5536599775672577, 0.03460374859795361, 0.8967305439608165, 0.06005597255439055, 0.6305877118211008, 0.18016791766317167, 0.06005597255439055, 0.06005597255439055, 0.2087201237817648, 0.0521800309454412, 0.1391467491878432, 0.608767027696814, 0.9329649517552178, 0.08985457536997195, 0.8086911783297476, 0.13525529165506647, 0.03381382291376662, 0.8115317499303989, 0.10859057916849091, 0.6264841105874476, 0.10859057916849091, 0.15870930801548672, 0.6618248394745205, 0.29055724659857, 0.024213103883214168, 0.03228413851095222, 0.9715235662110072, 0.9555709325556452, 0.8800958080146247, 0.055005988000914045, 0.9870672228767958, 0.9454452881525892, 0.027807214357429094, 0.9530041846640809, 0.030254101100447014, 0.8560834531293215, 0.12750179089160107, 0.8403097983337438, 0.10892904793215197, 0.031122585123471994, 0.13292865408738883, 0.03467704019671013, 0.3409908952676496, 0.24851878807642258, 0.24851878807642258, 0.9662989235876276, 0.025428919041779675, 0.9618179614138377, 0.06389411257512737, 0.9264646323393467, 0.9735003530276858, 0.10987764301333915, 0.5398336374133619, 0.12898679832000684, 0.1480959536266745, 0.07165933240000379, 0.04333522694388218, 0.04333522694388218, 0.8667045388776435, 0.6006410998060878, 0.09193486221521752, 0.3003205499030439, 0.006128990814347835, 0.9558216473080499, 0.9715751806410003, 0.12149472579140416, 0.27336313303065934, 0.6074736289570208, 0.9791233846928168, 0.16265419193622635, 0.8132709596811317, 0.09789597887384865, 0.04894798943692433, 0.8321158204277136, 0.18463072559118357, 0.775449047482971, 0.9770008441533772, 0.1116728810665355, 0.8561587548434388, 0.9557279880019943, 0.028961454181878614, 0.9699530870797969, 0.06424803731573572, 0.08719376492849848, 0.7939221754015914, 0.05506974627063062, 0.09401443040415448, 0.04700721520207724, 0.07051082280311587, 0.7756190508342745, 0.10467924917312732, 0.03489308305770911, 0.06978616611541821, 0.7676478272696003, 0.15436913612108996, 0.12349530889687196, 0.07203893018984198, 0.6586416474499839, 0.8853360385895094, 0.918256173018715, 0.04832927226414289, 0.024164636132071444, 0.8986963379224959, 0.9636119521118188, 0.9666732823702411, 0.050243723778207336, 0.7871516725252482, 0.1339832634085529, 0.033495815852138226, 0.969975491541941, 0.04186728931580016, 0.9629476542634037, 0.9673429775983492, 0.16532857995940278, 0.8266428997970139, 0.18181855497152988, 0.02479343931429953, 0.09917375725719813, 0.6942163008003869, 0.09771760160699505, 0.09771760160699505, 0.048858800803497526, 0.7817408128559604, 0.9672861933612691, 0.9250739647050292, 0.03426199869277886, 0.5857893206934461, 0.05374213951316019, 0.29558176732238106, 0.048367925561844174, 0.016122641853948058, 0.05402551399607109, 0.7563571959449953, 0.18908929898624882, 0.06026473706257875, 0.06026473706257875, 0.8437063188761026, 0.026667849927939788, 0.9467086724418624, 0.026667849927939788, 0.5485882895866887, 0.2021114751108853, 0.15158360633316398, 0.09383747058719674, 0.9327568512900257, 0.07462054810320207, 0.9515599835902203, 0.9889064839202645, 0.9284735647923456, 0.9268108550604937, 0.9493243837830919, 0.07762613232457263, 0.6382593102242639, 0.02587537744152421, 0.04312562906920702, 0.21562814534603508, 0.9535309292383167, 0.01869668488702582, 0.15686397205650512, 0.2654621065571625, 0.012066459388961932, 0.5671235912812108, 0.24564225481853644, 0.7274789854241271, 0.009447779031482171, 0.018895558062964342, 0.9720099865486728, 0.12666161907677329, 0.06333080953838664, 0.8233005239990263, 0.9615488186255142, 0.025987805908797682, 0.9662542120396848, 0.11983838598986149, 0.8388687019290304, 0.038096306532273486, 0.057144459798410235, 0.19048153266136744, 0.6285890577825125, 0.07619261306454697, 0.28444188141963506, 0.09922391212312852, 0.3968956484925141, 0.0959164483856909, 0.12237615828519184, 0.9318655713989251, 0.9496159032346982, 0.04828555440176432, 0.9715701540193223, 0.05436002124235941, 0.92412036112011, 0.26138559716538995, 0.05881175936221274, 0.24831631730712045, 0.4312862353228934, 0.3345434421872313, 0.18734432762484954, 0.46836081906212385, 0.11353208128826472, 0.8514906096619854, 0.010050193841931438, 0.8090406042754809, 0.055276066130622914, 0.12562742302414298, 0.8735860752508352, 0.104189164938173, 0.016029102298180463, 0.7969226538374558, 0.016836394095157515, 0.14030328412631263, 0.016836394095157515, 0.028060656825262528, 0.8135634681914456, 0.1284573897144388, 0.05709217320641724, 0.9088601157871679, 0.05863613650239793, 0.9862450326969331, 0.031085614203952366, 0.07253309980922219, 0.8703971977106663, 0.02072374280263491, 0.011825717828918643, 0.34294581703864063, 0.0827800248024305, 0.5439830201302576, 0.023651435657837287, 0.9640870350822454, 0.024720180386724237, 0.9676132581134446, 0.061386809094463486, 0.15346702273615873, 0.7673351136807937, 0.9827495596585372, 0.10410989890991242, 0.8707373363374493, 0.018929072529074983, 0.07469762607628537, 0.07469762607628537, 0.821673886839139, 0.8534756753893021, 0.12192509648418602, 0.020320849414031002, 0.01970352071396221, 0.9654725149841483, 0.3284858119223445, 0.22194987292050303, 0.07102395933456096, 0.3817537814232652, 0.0641511425950397, 0.010691857099173283, 0.021383714198346566, 0.8981159963305558, 0.9648742846864273, 0.05709029885305465, 0.9134447816488744, 0.9735530159748338, 0.23252448451473712, 0.7626803092083377, 0.9457284144805723, 0.9211384381396406, 0.06140922920930937, 0.9807122292794972, 0.9457931726056643, 0.07646695338815276, 0.10923850484021824, 0.808364935817615, 0.010923850484021825, 0.9682068903592457, 0.0202013863296753, 0.2222152496264283, 0.2676683688681977, 0.3434235676044801, 0.15151039747256476, 0.4797117251175145, 0.08158362672066573, 0.21864411961138414, 0.14032383795954503, 0.08158362672066573, 0.6901508838471434, 0.31124451624479016, 0.20504940033257166, 0.3661596434510208, 0.087878314428245, 0.3405284684094494, 0.9331133050440935, 0.06220755366960624, 0.9646827249142215, 0.03111879757787811, 0.9715195133875306, 0.9785864560033002, 0.9673118811500621, 0.9288830198121056, 0.27694430323886476, 0.059345207836899595, 0.6725790221515288, 0.9673105146627559, 0.21104699622650952, 0.29363060344557845, 0.2569267780148812, 0.16057923625930073, 0.07799562904023179, 0.3128331251506029, 0.08938089290017226, 0.5213885419176715, 0.04469044645008613, 0.0335178348375646, 0.3758726593724172, 0.06834048352225768, 0.4741121044356626, 0.06834048352225768, 0.01708512088056442, 0.8433965499384948, 0.04362395947957732, 0.014541319826525774, 0.08724791895915464, 0.012508935716405515, 0.26268765004451583, 0.0875625500148386, 0.6254467858202758, 0.055421211509618845, 0.08313181726442827, 0.027710605754809423, 0.8313181726442826, 0.9175761566094893, 0.07646467971745743, 0.8769022751296114, 0.0618989841267961, 0.03094949206339805, 0.020632994708932033, 0.12015027662293483, 0.030037569155733707, 0.060075138311467415, 0.7809767980490764, 0.08524671344989558, 0.08524671344989558, 0.028415571149965194, 0.7956359921990254, 0.1253255942660022, 0.025065118853200438, 0.7268884467428127, 0.1253255942660022, 0.9124281865520275, 0.9006358792457576, 0.07205087033966061, 0.07479259362041481, 0.739615648024102, 0.13296461088073744, 0.01662057636009218, 0.03324115272018436, 0.1225145756402597, 0.011668054822881878, 0.8342659198360542, 0.023336109645763756, 0.005834027411440939, 0.015925908725046515, 0.27074044832579075, 0.07962954362523257, 0.6370363490018606, 0.96415280854745, 0.007573354711440027, 0.840642372969843, 0.05301348298008019, 0.09845361124872035, 0.984075155057174, 0.784359332840567, 0.15466240365870335, 0.01104731454705024, 0.04418925818820096, 0.5901377408928052, 0.010444915768014252, 0.2872351836203919, 0.06266949460808552, 0.04700212095606413, 0.14632255639855926, 0.3365418797166863, 0.49749669175510147, 0.014632255639855925, 0.926872026893939, 0.9738167686217324, 0.01947633537243465, 0.03618913688755972, 0.054283705331339575, 0.904728422188993, 0.01633791399771121, 0.9475990118672503, 0.01633791399771121, 0.49629338380688254, 0.4411496744950067, 0.049016630499445185, 0.018381236437291944, 0.6231736846882031, 0.00819965374589741, 0.2049913436474352, 0.10659549869666632, 0.05739757622128186, 0.08435262992491924, 0.40971277392103633, 0.03615112711067967, 0.4217631496245962, 0.048201502814239565, 0.5076450818101635, 0.04333555576428225, 0.26620412826630524, 0.148579048334682, 0.0371447620836705, 0.963613409294549, 0.6729679467566955, 0.008412099334458694, 0.20189038402700865, 0.05047259600675216, 0.06729679467566956, 0.8043651304768972, 0.17874780677264382, 0.005958260225754794, 0.011916520451509588, 0.015573759444403212, 0.4672127833320963, 0.18688511333283853, 0.038934398611008024, 0.2881145497214594, 0.685318757995546, 0.12320337222391838, 0.10780295069592859, 0.04620126458396939, 0.03850105381997449, 0.9216641317145458, 0.023333269157330274, 0.04666653831466055, 0.011666634578665137, 0.9463350098252608, 0.03785340039301043, 0.8933280768254306, 0.05955520512169537, 0.029777602560847685, 0.031600305801416984, 0.9164088682410925, 0.031600305801416984, 0.4310720089721977, 0.021200262736337593, 0.4593390259539812, 0.08126767382262744, 0.003533377122722932, 0.857327062768344, 0.14288784379472402, 0.8915990672468885, 0.049533281513716027, 0.9711094662229749, 0.9612811699009844, 0.9475691736022058, 0.04407298481870724, 0.04503901371140836, 0.9007802742281672, 0.04503901371140836, 0.8314944485995284, 0.05939246061425203, 0.09898743435708672, 0.030186579178318008, 0.08049754447551469, 0.8452242169929043, 0.030186579178318008, 0.04992157113354106, 0.07131653019077294, 0.5134790173735652, 0.3708459569920193, 0.04126032190406043, 0.1237809657121813, 0.7839461161771483, 0.17054687754266507, 0.15504261594787733, 0.465127847843632, 0.19638731353397795, 0.010336174396525155, 0.5271464234042351, 0.4298270836988378, 0.03243977990179908, 0.007752355833222586, 0.6124361108245843, 0.16279947249767432, 0.031009423332890345, 0.18605653999734206, 0.9206371529561357, 0.07464625564509209, 0.9552194880623689, 0.031245494269590966, 0.906119333818138, 0.015622747134795483, 0.031245494269590966, 0.9855694515768113, 0.922999896090568, 0.07178888080704417, 0.13493197518737654, 0.8545691761867181, 0.11454560135227114, 0.12981834819924062, 0.7330918486545352, 0.01018183123131299, 0.012727289039141238, 0.7597472692528925, 0.23701517374128697, 0.20119842754167938, 0.7880271745382442, 0.04914357541948209, 0.8845843575506777, 0.023176665839269937, 0.4264506514425669, 0.4264506514425669, 0.11124799602849571, 0.013905999503561963, 0.14878301423524398, 0.8307051628134455, 0.012398584519603665, 0.012398584519603665, 0.01913645794661198, 0.2105010374127318, 0.13395520562628385, 0.6315031122381953, 0.49048562211653224, 0.007847769953864516, 0.42770346248561614, 0.05101050470011935, 0.02354330986159355, 0.9663057504606769, 0.9538625526127229, 0.1449119068771926, 0.8332434645438574, 0.018113988359649075, 0.07700408974214214, 0.3368928926218719, 0.125131645830981, 0.10588062339544545, 0.3561439150574074, 0.07402736655385166, 0.9130041874975038, 0.17591675416581595, 0.8041908761865872, 0.24094777704679965, 0.14682755163789354, 0.44424746393003683, 0.12423869753975607, 0.04141289917991869, 0.8980564858907931, 0.018709510122724857, 0.018709510122724857, 0.03741902024544971, 0.9892182418587581, 0.5679563921803651, 0.08414168773042446, 0.16828337546084893, 0.0736239767641214, 0.10517710966303058, 0.02352611054706296, 0.8469399796942666, 0.058815276367657404, 0.058815276367657404, 0.9910664355618172, 0.9124146689882809, 0.9302865219297198, 0.021142875498402724, 0.021142875498402724, 0.05928956814782648, 0.8419118676991361, 0.04743165451826119, 0.04743165451826119, 0.14621412750335688, 0.026584386818792157, 0.5848565100134275, 0.23925948136912942, 0.9641653665390159, 0.9730728856465544, 0.013463961318313795, 0.06731980659156898, 0.690028017563582, 0.18849545845639315, 0.03702589362536294, 0.08277757348661746, 0.8277757348661746, 0.272658740602119, 0.2385763980268541, 0.3408234257526487, 0.15337054158869193, 0.8136632596027129, 0.8878548264764058, 0.0522267544986121, 0.047151704740253084, 0.7544272758440493, 0.011787926185063271, 0.10609133566556943, 0.08251548329544289, 0.015912370641915655, 0.7956185320957827, 0.06364948256766262, 0.12729896513532524, 0.8652659625199465, 0.5383777062110535, 0.21708778476252158, 0.09117686960025906, 0.1519614493337651, 0.01046029688201742, 0.8891252349714808, 0.01046029688201742, 0.08368237505613936, 0.8994169772377756, 0.008854591673448493, 0.593257642121049, 0.07969132506103643, 0.15938265012207287, 0.15938265012207287, 0.8639057222027754, 0.08860571509772056, 0.04430285754886028, 0.3286764493976231, 0.41333553484852603, 0.1493983860898287, 0.10955881646587437, 0.05179902752991321, 0.8805834680085246, 0.9459929587657173, 0.04614599798857158, 0.11248769967926618, 0.8717796725143129, 0.9819128675755996, 0.05486354552553289, 0.7406578645946941, 0.10972709105106578, 0.05486354552553289, 0.04114765914414967, 0.990253353428786, 0.06011994579777571, 0.9017991869666356, 0.10877520505709408, 0.8702016404567526, 0.10742220559687032, 0.8593776447749626, 0.05487497704741401, 0.9054371212823311, 0.027437488523707004, 0.9793676529466862, 0.9867890167564676, 0.9641848068416469, 0.03883918704235075, 0.7088151635229013, 0.05825878056352613, 0.155356748169403, 0.04854898380293844, 0.15488227336468094, 0.13939404602821284, 0.06195290934587237, 0.6350173207951919, 0.9483276557041729, 0.034694914233079494, 0.051798045831271795, 0.8805667791316205, 0.49631652871935567, 0.018728925612051157, 0.28093388418076737, 0.10300909086628136, 0.09832685946326858, 0.9618152865536389, 0.8218377217140451, 0.16436754434280904, 0.009668679078988766, 0.3732017241962023, 0.01741608046248944, 0.5859267069880376, 0.003732017241962023, 0.01990409195713079, 0.8659792137868281, 0.05093995375216636, 0.008489992292027727, 0.07640993062824954, 0.9235707754728876, 0.0263877364420825, 0.052775472884165, 0.05483220545047656, 0.9321474926581016, 0.17474099523299524, 0.04077289888769889, 0.48927478665238666, 0.27376089253169256, 0.017474099523299525, 0.011178414376486341, 0.10060572938837707, 0.25710353065918584, 0.5477423044478307, 0.08942731501189073, 0.05840977193948178, 0.33377012536846734, 0.14185230328159862, 0.45893392238164255, 0.13497649940935366, 0.2699529988187073, 0.07362354513237472, 0.5153648159266231, 0.9027195155427044, 0.009824191652680583, 0.42735233689160534, 0.2161322163589728, 0.08841772487412525, 0.2603410787960354, 0.417618908070432, 0.11778994843012185, 0.06424906278006647, 0.39620255381040986, 0.016253622398252347, 0.04876086719475704, 0.07314130079213556, 0.040634055995630865, 0.8208079311117435, 0.8852935947349815, 0.026827078628332772, 0.10730831451333109, 0.9433915034313547, 0.049652184391123934, 0.9728935132112071, 0.34535713520245903, 0.4730919660307658, 0.10881115218707613, 0.052040116263384235, 0.014192758980922975, 0.7838269279627937, 0.1621710885440263, 0.04054277213600657, 0.013514257378668857, 0.9834906253879748, 0.9642240689991605, 0.02441073592402938, 0.9661384095953529, 0.02356435145354519, 0.02356435145354519, 0.07688368242452442, 0.909790242023539, 0.9636114995952523, 0.00823849666967667, 0.3480764842938393, 0.3068840009454559, 0.014417369171934171, 0.32130137011739013, 0.12191863489722725, 0.2926047237533454, 0.0487674539588909, 0.5333940276753693, 0.05189542921487113, 0.19028324045452746, 0.7611329618181099, 0.04913842279521847, 0.8844916103139324, 0.11160285355390585, 0.013950356694238232, 0.05580142677695293, 0.7672696181831027, 0.05580142677695293, 0.01449813537544545, 0.1159850830035636, 0.10148694762811815, 0.7684011748986088, 0.01449813537544545, 0.9636307676968372, 0.8797293083496194, 0.09163846961975201, 0.018327693923950405, 0.7736358830341797, 0.07627396029914447, 0.021792560085469852, 0.14165164055555404, 0.9636158843839903, 0.021028632682852186, 0.7780594092655309, 0.08411453073140875, 0.056076353820939166, 0.06308589804855656, 0.9898668422100134, 0.3934965623413294, 0.10416085473741073, 0.5034441312308185, 0.08996149283694388, 0.7796662712535136, 0.14993582139490647, 0.4367302916762639, 0.5415455616785673, 0.961267955379352, 0.9193054150886854, 0.8081720621791844, 0.014303930304056361, 0.10012751212839453, 0.050063756064197266, 0.028607860608112722, 0.06729378039059687, 0.11215630065099479, 0.15701882091139271, 0.6729378039059687, 0.1299187708834628, 0.8228188822619309, 0.11164762317537685, 0.8559651110112225, 0.9583503221324903, 0.03422679721901751, 0.9757545118362271, 0.026924671016248528, 0.10769868406499411, 0.8077401304874557, 0.053849342032497055, 0.9803513943478109, 0.047028820252474096, 0.8935475847970078, 0.047028820252474096, 0.11046985259597011, 0.4217939826391586, 0.03682328419865671, 0.42848912522073257, 0.024527681120644074, 0.08175893706881358, 0.34338753568901703, 0.5477848783610509, 0.7725953846320742, 0.24857101529640113, 0.3748293087802874, 0.07891143342742893, 0.07102029008468604, 0.22489758526817247, 0.8829547835330698, 0.08026861668482453, 0.825116823925777, 0.02357476639787934, 0.14144859838727605, 0.01178738319893967, 0.0961944317851606, 0.0480972158925803, 0.8657498860664454, 0.9423156841257191, 0.9666739327377715, 0.03375437225976537, 0.16202098684687377, 0.7628488130706973, 0.03375437225976537, 0.013501748903906147, 0.9232652116403786, 0.06839001567706508, 0.5776901524888852, 0.30113635608463163, 0.030728199600472614, 0.09218459880141784, 0.5202757033546537, 0.09459558242811884, 0.2364889560702971, 0.10551045732367102, 0.04729779121405942, 0.11521171784618991, 0.05236896265735905, 0.7384023734687626, 0.06284275518883085, 0.03142137759441543, 0.7261851345512745, 0.24690294574743332, 0.021785554036538233, 0.08307089190468452, 0.8860895136499681, 0.027690297301561504, 0.9706054409706464, 0.9009669057319357, 0.07207735245855486, 0.018019338114638715, 0.28407116208488586, 0.2257003753551148, 0.16732958862534372, 0.21791760379114533, 0.10506741611358793, 0.10933656885426438, 0.17962436311772007, 0.5388730893531601, 0.1483853434450731, 0.023429264754485226, 0.9744586381020757, 0.9757574902516134, 0.9511281587155572, 0.015866157947773647, 0.9202371609708716, 0.06346463179109459, 0.9206462217865268, 0.06137641478576845, 0.06735380081113371, 0.2087967825145145, 0.653331867867997, 0.060618420730020335, 0.01347076016222674], \"Term\": [\"000\", \"000\", \"000\", \"000\", \"000\", \"1959\", \"1959\", \"1960\", \"1960\", \"1960\", \"1961\", \"1961\", \"1961\", \"1961\", \"1961\", \"30\", \"30\", \"30\", \"30\", \"30\", \"62\", \"academic\", \"act\", \"act\", \"act\", \"act\", \"act\", \"adjustments\", \"adjustments\", \"administration\", \"administration\", \"administration\", \"administration\", \"adopting\", \"agreement\", \"agreement\", \"agreement\", \"aid\", \"aid\", \"aid\", \"aid\", \"aid\", \"aircraft\", \"aircraft\", \"alexander\", \"allocation\", \"allocation\", \"american\", \"american\", \"american\", \"american\", \"american\", \"anne\", \"anti\", \"anti\", \"anti\", \"appearances\", \"areas\", \"areas\", \"areas\", \"areas\", \"areas\", \"art\", \"art\", \"art\", \"art\", \"assessment\", \"assigned\", \"assigned\", \"authorized\", \"authorized\", \"authorized\", \"available\", \"available\", \"available\", \"available\", \"away\", \"away\", \"away\", \"away\", \"baby\", \"bankers\", \"banks\", \"banks\", \"baseball\", \"bed\", \"bed\", \"berlin\", \"berlin\", \"billion\", \"billion\", \"black\", \"black\", \"black\", \"board\", \"board\", \"board\", \"board\", \"board\", \"boats\", \"boats\", \"bombs\", \"bonds\", \"bonds\", \"bride\", \"business\", \"business\", \"business\", \"business\", \"business\", \"calendar\", \"calendar\", \"calendar\", \"came\", \"came\", \"came\", \"came\", \"campus\", \"captain\", \"cars\", \"cars\", \"cars\", \"castro\", \"catholic\", \"catholic\", \"cattle\", \"cattle\", \"cattle\", \"chamber\", \"chamber\", \"charter\", \"chemical\", \"chemical\", \"china\", \"china\", \"chinese\", \"city\", \"city\", \"city\", \"city\", \"claim\", \"claim\", \"claim\", \"claim\", \"claims\", \"claims\", \"claims\", \"claims\", \"class\", \"class\", \"class\", \"class\", \"classical\", \"clay\", \"clay\", \"clay\", \"clerical\", \"cloth\", \"clothes\", \"co\", \"co\", \"co\", \"co\", \"coach\", \"coal\", \"coal\", \"coat\", \"collective\", \"collective\", \"college\", \"college\", \"college\", \"college\", \"colleges\", \"colleges\", \"colleges\", \"colleges\", \"colored\", \"colors\", \"colors\", \"come\", \"come\", \"come\", \"come\", \"come\", \"committee\", \"committee\", \"committee\", \"commodities\", \"commodities\", \"commodities\", \"communist\", \"communist\", \"communist\", \"company\", \"company\", \"company\", \"company\", \"compared\", \"compared\", \"components\", \"congo\", \"connections\", \"conservation\", \"coordination\", \"cost\", \"cost\", \"cost\", \"cost\", \"cost\", \"couldn\", \"couldn\", \"countries\", \"countries\", \"countries\", \"countries\", \"county\", \"county\", \"county\", \"county\", \"cousin\", \"creative\", \"creative\", \"creative\", \"cuba\", \"cuba\", \"cuban\", \"curriculum\", \"curriculum\", \"daily\", \"daily\", \"daily\", \"daily\", \"daily\", \"day\", \"day\", \"day\", \"day\", \"day\", \"definition\", \"democratic\", \"democratic\", \"democrats\", \"denied\", \"denied\", \"department\", \"department\", \"department\", \"department\", \"design\", \"design\", \"design\", \"designer\", \"designer\", \"development\", \"development\", \"development\", \"development\", \"didn\", \"didn\", \"didn\", \"don\", \"don\", \"don\", \"don\", \"don\", \"door\", \"door\", \"door\", \"drill\", \"drill\", \"dry\", \"east\", \"east\", \"east\", \"east\", \"education\", \"education\", \"education\", \"education\", \"education\", \"eisenhower\", \"eisenhower\", \"electronic\", \"engineer\", \"engineer\", \"engineer\", \"entrance\", \"equipment\", \"equipment\", \"equipment\", \"exercise\", \"exercise\", \"exercise\", \"eyes\", \"eyes\", \"eyes\", \"faculty\", \"faculty\", \"federal\", \"federal\", \"federal\", \"federal\", \"feed\", \"feed\", \"feed\", \"feed\", \"fig\", \"filing\", \"filing\", \"fingers\", \"fiscal\", \"fiscal\", \"flowers\", \"forests\", \"forests\", \"frames\", \"fulfill\", \"game\", \"game\", \"game\", \"game\", \"gen\", \"general\", \"general\", \"general\", \"general\", \"general\", \"good\", \"good\", \"good\", \"good\", \"good\", \"got\", \"got\", \"government\", \"government\", \"government\", \"government\", \"guests\", \"guests\", \"hadn\", \"hadn\", \"hair\", \"ham\", \"handsome\", \"hated\", \"hearing\", \"hearing\", \"hearing\", \"hell\", \"high\", \"high\", \"high\", \"high\", \"high\", \"home\", \"home\", \"home\", \"home\", \"home\", \"house\", \"house\", \"house\", \"house\", \"house\", \"inch\", \"inch\", \"inch\", \"inch\", \"income\", \"income\", \"income\", \"income\", \"india\", \"india\", \"india\", \"india\", \"industrial\", \"industrial\", \"industry\", \"industry\", \"industry\", \"industry\", \"insurance\", \"insurance\", \"insurance\", \"insurance\", \"interference\", \"interference\", \"interference\", \"interference\", \"interior\", \"interior\", \"interior\", \"interior\", \"inventories\", \"investment\", \"investment\", \"island\", \"island\", \"island\", \"island\", \"island\", \"john\", \"john\", \"john\", \"john\", \"john\", \"junior\", \"junior\", \"junior\", \"junior\", \"katanga\", \"kennedy\", \"kennedy\", \"kennedy\", \"kennedy\", \"khrushchev\", \"knew\", \"knew\", \"knew\", \"knew\", \"know\", \"know\", \"know\", \"know\", \"know\", \"labor\", \"labor\", \"labor\", \"labor\", \"laboratory\", \"laos\", \"laos\", \"leaders\", \"leaders\", \"leaders\", \"league\", \"league\", \"league\", \"left\", \"left\", \"left\", \"left\", \"let\", \"let\", \"let\", \"let\", \"let\", \"level\", \"level\", \"level\", \"level\", \"level\", \"life\", \"life\", \"life\", \"life\", \"life\", \"liked\", \"little\", \"little\", \"little\", \"little\", \"little\", \"ll\", \"ll\", \"ll\", \"ll\", \"local\", \"local\", \"local\", \"local\", \"local\", \"look\", \"look\", \"look\", \"look\", \"look\", \"looked\", \"looked\", \"looked\", \"looked\", \"machine\", \"machine\", \"machinery\", \"machinery\", \"machinery\", \"machines\", \"machines\", \"machines\", \"man\", \"man\", \"man\", \"man\", \"man\", \"manufacturers\", \"manufacturers\", \"manufacturing\", \"manufacturing\", \"marketing\", \"mathematics\", \"mayor\", \"mayor\", \"meat\", \"meat\", \"meat\", \"medical\", \"medical\", \"medical\", \"meeting\", \"meeting\", \"meeting\", \"meeting\", \"members\", \"members\", \"members\", \"members\", \"membership\", \"membership\", \"membership\", \"men\", \"men\", \"men\", \"men\", \"men\", \"military\", \"military\", \"military\", \"million\", \"million\", \"million\", \"million\", \"million\", \"missile\", \"missile\", \"missiles\", \"monday\", \"monday\", \"monday\", \"monday\", \"moscow\", \"mother\", \"mother\", \"motors\", \"motors\", \"mr\", \"mr\", \"mr\", \"mr\", \"mr\", \"mrs\", \"mrs\", \"music\", \"music\", \"musical\", \"musical\", \"national\", \"national\", \"national\", \"national\", \"national\", \"nations\", \"nations\", \"nations\", \"nations\", \"officer\", \"officer\", \"officer\", \"officer\", \"old\", \"old\", \"old\", \"old\", \"old\", \"opposition\", \"pale\", \"party\", \"party\", \"party\", \"pay\", \"pay\", \"pay\", \"pay\", \"pay\", \"payment\", \"payment\", \"payments\", \"payments\", \"people\", \"people\", \"people\", \"people\", \"people\", \"pieces\", \"pieces\", \"pieces\", \"pieces\", \"pink\", \"place\", \"place\", \"place\", \"place\", \"place\", \"planning\", \"planning\", \"planning\", \"planning\", \"player\", \"polaris\", \"police\", \"police\", \"police\", \"political\", \"political\", \"political\", \"political\", \"pool\", \"pool\", \"pool\", \"pool\", \"pope\", \"premier\", \"president\", \"president\", \"president\", \"president\", \"president\", \"prestige\", \"prestige\", \"problem\", \"problem\", \"problem\", \"problem\", \"proceedings\", \"procurement\", \"procurement\", \"production\", \"production\", \"production\", \"production\", \"production\", \"products\", \"products\", \"products\", \"products\", \"professors\", \"program\", \"program\", \"program\", \"program\", \"property\", \"property\", \"property\", \"property\", \"prosperity\", \"provide\", \"provide\", \"provide\", \"provide\", \"provide\", \"providence\", \"providence\", \"providence\", \"public\", \"public\", \"public\", \"public\", \"puerto\", \"puerto\", \"race\", \"race\", \"radiation\", \"radiation\", \"railroad\", \"range\", \"range\", \"range\", \"range\", \"range\", \"rayburn\", \"recognition\", \"recognition\", \"recommendation\", \"recommendation\", \"recorded\", \"recorded\", \"recreation\", \"recreation\", \"recreation\", \"rehabilitation\", \"republican\", \"republicans\", \"research\", \"research\", \"research\", \"research\", \"research\", \"return\", \"return\", \"return\", \"return\", \"rhode\", \"rhode\", \"rico\", \"rico\", \"right\", \"right\", \"right\", \"right\", \"right\", \"robinson\", \"room\", \"room\", \"room\", \"said\", \"said\", \"said\", \"said\", \"said\", \"sales\", \"sales\", \"sales\", \"sales\", \"sat\", \"sat\", \"sat\", \"savings\", \"savings\", \"school\", \"school\", \"school\", \"school\", \"school\", \"schools\", \"schools\", \"schools\", \"schools\", \"schools\", \"secretary\", \"secretary\", \"secretary\", \"secretary\", \"section\", \"section\", \"section\", \"section\", \"sectors\", \"service\", \"service\", \"service\", \"service\", \"service\", \"services\", \"services\", \"services\", \"services\", \"shall\", \"shall\", \"shall\", \"shall\", \"shall\", \"shares\", \"shares\", \"shares\", \"shelter\", \"shelter\", \"shipments\", \"small\", \"small\", \"small\", \"small\", \"small\", \"son\", \"son\", \"son\", \"son\", \"southern\", \"soviet\", \"soviet\", \"speaker\", \"speaker\", \"speaker\", \"st\", \"st\", \"stared\", \"state\", \"state\", \"state\", \"state\", \"state\", \"states\", \"states\", \"states\", \"states\", \"stations\", \"stations\", \"stations\", \"stockholders\", \"stockholders\", \"student\", \"student\", \"student\", \"student\", \"student\", \"students\", \"students\", \"students\", \"students\", \"students\", \"studio\", \"sun\", \"sun\", \"sun\", \"sure\", \"sure\", \"sure\", \"sure\", \"sweet\", \"system\", \"system\", \"system\", \"system\", \"system\", \"systems\", \"tax\", \"tax\", \"tax\", \"teachers\", \"teachers\", \"teachers\", \"technical\", \"technical\", \"tends\", \"thereof\", \"thought\", \"thought\", \"thought\", \"thought\", \"thought\", \"title\", \"title\", \"title\", \"title\", \"tractor\", \"tractor\", \"treasury\", \"treasury\", \"trees\", \"trees\", \"troops\", \"trust\", \"trust\", \"trust\", \"trust\", \"trustees\", \"unions\", \"unions\", \"unions\", \"united\", \"united\", \"united\", \"united\", \"university\", \"university\", \"university\", \"university\", \"upstairs\", \"use\", \"use\", \"use\", \"use\", \"use\", \"utility\", \"utility\", \"ve\", \"ve\", \"ve\", \"ve\", \"vehicles\", \"vehicles\", \"vehicles\", \"vocational\", \"walls\", \"war\", \"war\", \"war\", \"war\", \"war\", \"wasn\", \"wasn\", \"water\", \"water\", \"water\", \"water\", \"way\", \"way\", \"way\", \"way\", \"way\", \"week\", \"week\", \"week\", \"week\", \"week\", \"went\", \"went\", \"went\", \"west\", \"west\", \"west\", \"windows\", \"woman\", \"woman\", \"woman\", \"work\", \"work\", \"work\", \"work\", \"work\", \"world\", \"world\", \"world\", \"world\", \"world\", \"yankees\", \"yards\", \"yellow\", \"yesterday\", \"yesterday\", \"yesterday\", \"yield\", \"yield\", \"york\", \"york\", \"york\", \"york\", \"york\"]}, \"R\": 30, \"lambda.step\": 0.01, \"plot.opts\": {\"xlab\": \"PC1\", \"ylab\": \"PC2\"}, \"topic.order\": [1, 2, 3, 4, 5]};\n",
       "\n",
       "function LDAvis_load_lib(url, callback){\n",
       "  var s = document.createElement('script');\n",
       "  s.src = url;\n",
       "  s.async = true;\n",
       "  s.onreadystatechange = s.onload = callback;\n",
       "  s.onerror = function(){console.warn(\"failed to load library \" + url);};\n",
       "  document.getElementsByTagName(\"head\")[0].appendChild(s);\n",
       "}\n",
       "\n",
       "if(typeof(LDAvis) !== \"undefined\"){\n",
       "   // already loaded: just create the visualization\n",
       "   !function(LDAvis){\n",
       "       new LDAvis(\"#\" + \"ldavis_el3146825219569068169338715608\", ldavis_el3146825219569068169338715608_data);\n",
       "   }(LDAvis);\n",
       "}else if(typeof define === \"function\" && define.amd){\n",
       "   // require.js is available: use it to load d3/LDAvis\n",
       "   require.config({paths: {d3: \"https://d3js.org/d3.v5\"}});\n",
       "   require([\"d3\"], function(d3){\n",
       "      window.d3 = d3;\n",
       "      LDAvis_load_lib(\"https://cdn.jsdelivr.net/gh/bmabey/pyLDAvis@3.3.1/pyLDAvis/js/ldavis.v3.0.0.js\", function(){\n",
       "        new LDAvis(\"#\" + \"ldavis_el3146825219569068169338715608\", ldavis_el3146825219569068169338715608_data);\n",
       "      });\n",
       "    });\n",
       "}else{\n",
       "    // require.js not available: dynamically load d3 & LDAvis\n",
       "    LDAvis_load_lib(\"https://d3js.org/d3.v5.js\", function(){\n",
       "         LDAvis_load_lib(\"https://cdn.jsdelivr.net/gh/bmabey/pyLDAvis@3.3.1/pyLDAvis/js/ldavis.v3.0.0.js\", function(){\n",
       "                 new LDAvis(\"#\" + \"ldavis_el3146825219569068169338715608\", ldavis_el3146825219569068169338715608_data);\n",
       "            })\n",
       "         });\n",
       "}\n",
       "</script>"
      ],
      "text/plain": [
       "<IPython.core.display.HTML object>"
      ]
     },
     "execution_count": 35,
     "metadata": {},
     "output_type": "execute_result"
    }
   ],
   "source": [
    "pyLDAvis.display(lda_display)"
   ]
  },
  {
   "cell_type": "markdown",
   "id": "a3d14c87",
   "metadata": {},
   "source": [
    "Q: What conclusions do you draw from the visualization above? Please address the principal component scatterplot and the salient terms graph.\n",
    "\n",
    "A: The conclusion I can draw is, some words are very dominent in specific topis. PC3 draws out more terms than any other PCs. For example the word said is mostly in PC3. Also, PS3 has a the highest percentage of tokens for most relevant terms followed by PC1, PC2, PC4 and PC5.\n"
   ]
  },
  {
   "cell_type": "code",
   "execution_count": null,
   "id": "d8180792",
   "metadata": {},
   "outputs": [],
   "source": []
  }
 ],
 "metadata": {
  "kernelspec": {
   "display_name": "Python 3 (ipykernel)",
   "language": "python",
   "name": "python3"
  },
  "language_info": {
   "codemirror_mode": {
    "name": "ipython",
    "version": 3
   },
   "file_extension": ".py",
   "mimetype": "text/x-python",
   "name": "python",
   "nbconvert_exporter": "python",
   "pygments_lexer": "ipython3",
   "version": "3.9.12"
  }
 },
 "nbformat": 4,
 "nbformat_minor": 5
}
